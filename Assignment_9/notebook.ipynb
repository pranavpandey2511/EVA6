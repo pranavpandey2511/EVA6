{
 "metadata": {
  "language_info": {
   "codemirror_mode": {
    "name": "ipython",
    "version": 3
   },
   "file_extension": ".py",
   "mimetype": "text/x-python",
   "name": "python",
   "nbconvert_exporter": "python",
   "pygments_lexer": "ipython3",
   "version": 3
  },
  "orig_nbformat": 4
 },
 "nbformat": 4,
 "nbformat_minor": 2,
 "cells": [
  {
   "cell_type": "code",
   "execution_count": null,
   "metadata": {},
   "outputs": [],
   "source": []
  },
  {
   "cell_type": "code",
   "execution_count": null,
   "metadata": {},
   "outputs": [],
   "source": [
    "!git clone https://github.com/RajamannarAanjaram/EVA-6.git"
   ]
  },
  {
   "cell_type": "code",
   "execution_count": null,
   "metadata": {},
   "outputs": [],
   "source": [
    "!pip install -U albumentations\n",
    "!pip install -U torchsummary\n",
    "!pip install -U grad-cam\n",
    "!pip install -U ttach"
   ]
  },
  {
   "cell_type": "code",
   "execution_count": null,
   "metadata": {},
   "outputs": [],
   "source": [
    "import sys\n",
    "sys.path.append(\"./EVA-6/\") "
   ]
  },
  {
   "cell_type": "code",
   "execution_count": null,
   "metadata": {},
   "outputs": [],
   "source": [
    "from utils.DataLoader import Loader,mean_std,DeNorm\n",
    "from src.sutom_resnet import *\n",
    "from src.optimise import *\n",
    "from src.plots import Plots\n",
    "import matplotlib.pyplot as plt\n",
    "from utils.helper import get_mean_std\n",
    "\n",
    "\n",
    "from pytorch_grad_cam import GradCAM, XGradCAM\n",
    "from pytorch_grad_cam.utils.image import show_cam_on_image\n",
    "\n",
    "\n",
    "# import seaborn as sns\n",
    "import matplotlib.pyplot as plt\n",
    "\n",
    "%load_ext autoreload\n",
    "%autoreload 2\n",
    "import warnings\n",
    "warnings.filterwarnings('ignore')"
   ]
  },
  {
   "cell_type": "code",
   "execution_count": null,
   "metadata": {},
   "outputs": [],
   "source": [
    "loader = Loader(batch_size=256)\n",
    "train_transform,test_transform = loader.transform()\n",
    "train_data,test_data = loader.Loader(train_transform,test_transform, cuda=False)"
   ]
  },
  {
   "source": [
    "## Model Creation & Training"
   ],
   "cell_type": "markdown",
   "metadata": {}
  },
  {
   "cell_type": "code",
   "execution_count": null,
   "metadata": {},
   "outputs": [],
   "source": [
    "model, summary = ModelLoader.modelsummary(inputsize=(3,32,32))"
   ]
  },
  {
   "cell_type": "code",
   "execution_count": null,
   "metadata": {},
   "outputs": [],
   "source": [
    "use_cuda = torch.cuda.is_available()\n",
    "device = 'cuda:0' if use_cuda else 'cpu'"
   ]
  },
  {
   "cell_type": "code",
   "execution_count": null,
   "metadata": {},
   "outputs": [],
   "source": [
    "(train_acc, train_losses, test_acc, test_losses), modelfinal = learner(model,train_data,test_data,\n",
    "                                                                       epochs=40,optimiser= 'Adam',\n",
    "                                                                       scheduler=False,device = device)"
   ]
  },
  {
   "source": [
    "## Loss Curves"
   ],
   "cell_type": "markdown",
   "metadata": {}
  },
  {
   "cell_type": "code",
   "execution_count": null,
   "metadata": {},
   "outputs": [],
   "source": [
    "Plots.stat_graph(train_acc, train_losses, test_acc, test_losses)"
   ]
  },
  {
   "source": [
    "## Misclassifications"
   ],
   "cell_type": "markdown",
   "metadata": {}
  },
  {
   "cell_type": "code",
   "execution_count": null,
   "metadata": {},
   "outputs": [],
   "source": [
    "Plots.miscImages(modelfinal,test_data,device)\n",
    "plt.show()"
   ]
  },
  {
   "source": [
    "## Class Level Accuracy"
   ],
   "cell_type": "markdown",
   "metadata": {}
  },
  {
   "cell_type": "code",
   "execution_count": null,
   "metadata": {},
   "outputs": [],
   "source": [
    "classes = ('plane', 'car', 'bird', 'cat',\n",
    "           'deer', 'dog', 'frog', 'horse', 'ship', 'truck')\n",
    "class_correct = list(0. for i in range(10))\n",
    "class_total = list(0. for i in range(10))\n",
    "\n",
    "with torch.no_grad():\n",
    "    for data in test_data:\n",
    "        images, labels = data\n",
    "        images = images[\"image\"].to(device)\n",
    "        labels = labels.to(device)\n",
    "        outputs = modelfinal(images)\n",
    "        _, predicted = torch.max(outputs, 1)\n",
    "        c = (predicted == labels).squeeze()\n",
    "        for i in range(4):\n",
    "            label = labels[i]\n",
    "            class_correct[label] += c[i].item()\n",
    "            class_total[label] += 1\n",
    "\n",
    "\n",
    "for i in range(10):\n",
    "    print('Accuracy of %5s : %2d %%' % (\n",
    "        classes[i], 100 * class_correct[i] / class_total[i]))"
   ]
  },
  {
   "source": [
    "## CAM Visualization"
   ],
   "cell_type": "markdown",
   "metadata": {}
  },
  {
   "cell_type": "code",
   "execution_count": null,
   "metadata": {},
   "outputs": [],
   "source": [
    "# using layer 3 as it's 8x8 in width & height\n",
    "target_layer = model.layer3[-1]\n",
    "\n",
    "# Construct the CAM object once, and then re-use it on many images:\n",
    "cam =  GradCAM(model=model, target_layer=target_layer, use_cuda=device)\n",
    "denorm = DeNorm()"
   ]
  },
  {
   "cell_type": "code",
   "execution_count": null,
   "metadata": {},
   "outputs": [],
   "source": [
    "for idx in range(0,10) :\n",
    "    Plots.plot_grad_cam(cam,images[idx:idx+1],None,denorm)\n",
    "    "
   ]
  },
  {
   "cell_type": "code",
   "execution_count": null,
   "metadata": {},
   "outputs": [],
   "source": []
  }
 ]
}