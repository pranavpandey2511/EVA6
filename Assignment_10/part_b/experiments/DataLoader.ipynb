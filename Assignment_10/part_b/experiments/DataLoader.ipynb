{
 "cells": [
  {
   "cell_type": "code",
   "execution_count": 1,
   "id": "89025107",
   "metadata": {},
   "outputs": [],
   "source": [
    "import re\n",
    "import pandas as pd"
   ]
  },
  {
   "cell_type": "code",
   "execution_count": 3,
   "id": "716a1667",
   "metadata": {},
   "outputs": [],
   "source": [
    "path = '../data/sample_coco.txt'\n",
    "\n",
    "lines = []\n",
    "with open(path) as f:\n",
    "    lines = f.readlines()"
   ]
  },
  {
   "cell_type": "code",
   "execution_count": 4,
   "id": "7ba73b74",
   "metadata": {},
   "outputs": [
    {
     "data": {
      "text/plain": [
       "['id: 0, height: 330, width: 1093, bbox:[69, 464, 312, 175],\\n',\n",
       " 'id: 1, height: 782, width: 439, bbox:[359, 292, 83, 199],\\n',\n",
       " 'id: 3, height: 645, width: 831, bbox:[297, 312, 267, 167],\\n',\n",
       " 'id: 34, height: 943, width: 608, bbox:[275, 112, 319, 290],\\n',\n",
       " 'id: 20, height: 593, width: 857, bbox:[71, 368, 146, 147],\\n']"
      ]
     },
     "execution_count": 4,
     "metadata": {},
     "output_type": "execute_result"
    }
   ],
   "source": [
    "lines[:5]"
   ]
  },
  {
   "cell_type": "code",
   "execution_count": 5,
   "id": "6016ea9f",
   "metadata": {},
   "outputs": [],
   "source": [
    "class my_dictionary(dict):\n",
    "    def __init__(self):\n",
    "        self = dict()\n",
    "        \n",
    "    def add(self, key, value):\n",
    "        self[key] = value"
   ]
  },
  {
   "cell_type": "code",
   "execution_count": 6,
   "id": "1aea61bb",
   "metadata": {},
   "outputs": [],
   "source": [
    "def datarestructure(columns,dataList):\n",
    "    ls = []\n",
    "    dataDict = my_dictionary()\n",
    "    for i in dataList:\n",
    "        a = i.replace(',\\n','')\n",
    "        val = re.findall('[0-9]+', a)\n",
    "        for cnt,dat in zip(columns,val):\n",
    "            dataDict.add(cnt,dat)\n",
    "        ls.append(dataDict.copy())\n",
    "    return ls"
   ]
  },
  {
   "cell_type": "code",
   "execution_count": 7,
   "id": "84af9ee9",
   "metadata": {},
   "outputs": [],
   "source": [
    "columns = ['id', 'height', 'width', 'x', 'y', 'bbox_width', 'bbox_height']\n",
    "data = pd.DataFrame(datarestructure(columns,dataList=lines))\n",
    "data = data.astype(dtype=np.int64)"
   ]
  },
  {
   "cell_type": "code",
   "execution_count": 62,
   "id": "aabaa688",
   "metadata": {},
   "outputs": [],
   "source": [
    "data.to_csv('./data/coco.csv',index=False)"
   ]
  },
  {
   "cell_type": "code",
   "execution_count": 8,
   "id": "cd979e1f",
   "metadata": {},
   "outputs": [
    {
     "data": {
      "text/html": [
       "<div>\n",
       "<style scoped>\n",
       "    .dataframe tbody tr th:only-of-type {\n",
       "        vertical-align: middle;\n",
       "    }\n",
       "\n",
       "    .dataframe tbody tr th {\n",
       "        vertical-align: top;\n",
       "    }\n",
       "\n",
       "    .dataframe thead th {\n",
       "        text-align: right;\n",
       "    }\n",
       "</style>\n",
       "<table border=\"1\" class=\"dataframe\">\n",
       "  <thead>\n",
       "    <tr style=\"text-align: right;\">\n",
       "      <th></th>\n",
       "      <th>id</th>\n",
       "      <th>height</th>\n",
       "      <th>width</th>\n",
       "      <th>x</th>\n",
       "      <th>y</th>\n",
       "      <th>bbox_width</th>\n",
       "      <th>bbox_height</th>\n",
       "    </tr>\n",
       "  </thead>\n",
       "  <tbody>\n",
       "    <tr>\n",
       "      <th>0</th>\n",
       "      <td>0</td>\n",
       "      <td>330</td>\n",
       "      <td>1093</td>\n",
       "      <td>69</td>\n",
       "      <td>464</td>\n",
       "      <td>312</td>\n",
       "      <td>175</td>\n",
       "    </tr>\n",
       "    <tr>\n",
       "      <th>1</th>\n",
       "      <td>1</td>\n",
       "      <td>782</td>\n",
       "      <td>439</td>\n",
       "      <td>359</td>\n",
       "      <td>292</td>\n",
       "      <td>83</td>\n",
       "      <td>199</td>\n",
       "    </tr>\n",
       "    <tr>\n",
       "      <th>2</th>\n",
       "      <td>3</td>\n",
       "      <td>645</td>\n",
       "      <td>831</td>\n",
       "      <td>297</td>\n",
       "      <td>312</td>\n",
       "      <td>267</td>\n",
       "      <td>167</td>\n",
       "    </tr>\n",
       "    <tr>\n",
       "      <th>3</th>\n",
       "      <td>34</td>\n",
       "      <td>943</td>\n",
       "      <td>608</td>\n",
       "      <td>275</td>\n",
       "      <td>112</td>\n",
       "      <td>319</td>\n",
       "      <td>290</td>\n",
       "    </tr>\n",
       "    <tr>\n",
       "      <th>4</th>\n",
       "      <td>20</td>\n",
       "      <td>593</td>\n",
       "      <td>857</td>\n",
       "      <td>71</td>\n",
       "      <td>368</td>\n",
       "      <td>146</td>\n",
       "      <td>147</td>\n",
       "    </tr>\n",
       "    <tr>\n",
       "      <th>5</th>\n",
       "      <td>61</td>\n",
       "      <td>587</td>\n",
       "      <td>745</td>\n",
       "      <td>177</td>\n",
       "      <td>463</td>\n",
       "      <td>68</td>\n",
       "      <td>302</td>\n",
       "    </tr>\n",
       "    <tr>\n",
       "      <th>6</th>\n",
       "      <td>16</td>\n",
       "      <td>430</td>\n",
       "      <td>405</td>\n",
       "      <td>78</td>\n",
       "      <td>295</td>\n",
       "      <td>54</td>\n",
       "      <td>237</td>\n",
       "    </tr>\n",
       "    <tr>\n",
       "      <th>7</th>\n",
       "      <td>41</td>\n",
       "      <td>513</td>\n",
       "      <td>1179</td>\n",
       "      <td>105</td>\n",
       "      <td>497</td>\n",
       "      <td>379</td>\n",
       "      <td>321</td>\n",
       "    </tr>\n",
       "    <tr>\n",
       "      <th>8</th>\n",
       "      <td>75</td>\n",
       "      <td>638</td>\n",
       "      <td>842</td>\n",
       "      <td>192</td>\n",
       "      <td>142</td>\n",
       "      <td>398</td>\n",
       "      <td>248</td>\n",
       "    </tr>\n",
       "    <tr>\n",
       "      <th>9</th>\n",
       "      <td>12</td>\n",
       "      <td>746</td>\n",
       "      <td>877</td>\n",
       "      <td>345</td>\n",
       "      <td>441</td>\n",
       "      <td>370</td>\n",
       "      <td>181</td>\n",
       "    </tr>\n",
       "  </tbody>\n",
       "</table>\n",
       "</div>"
      ],
      "text/plain": [
       "   id height width    x    y bbox_width bbox_height\n",
       "0   0    330  1093   69  464        312         175\n",
       "1   1    782   439  359  292         83         199\n",
       "2   3    645   831  297  312        267         167\n",
       "3  34    943   608  275  112        319         290\n",
       "4  20    593   857   71  368        146         147\n",
       "5  61    587   745  177  463         68         302\n",
       "6  16    430   405   78  295         54         237\n",
       "7  41    513  1179  105  497        379         321\n",
       "8  75    638   842  192  142        398         248\n",
       "9  12    746   877  345  441        370         181"
      ]
     },
     "execution_count": 8,
     "metadata": {},
     "output_type": "execute_result"
    }
   ],
   "source": [
    "data.head(10)"
   ]
  },
  {
   "cell_type": "code",
   "execution_count": 19,
   "id": "ccc549b0",
   "metadata": {},
   "outputs": [],
   "source": [
    "import numpy as np"
   ]
  },
  {
   "cell_type": "code",
   "execution_count": 25,
   "id": "f1d8aac1",
   "metadata": {},
   "outputs": [],
   "source": []
  },
  {
   "cell_type": "code",
   "execution_count": 50,
   "id": "aff3a020",
   "metadata": {},
   "outputs": [],
   "source": [
    "from matplotlib import pyplot as plt\n",
    "from sklearn.datasets import make_blobs\n",
    "from sklearn.cluster import KMeans"
   ]
  },
  {
   "cell_type": "code",
   "execution_count": 57,
   "id": "c7cf13f8",
   "metadata": {
    "scrolled": true
   },
   "outputs": [],
   "source": [
    "data['n_height'] = [x/x for x in data.height]\n",
    "data['n_width'] = [x/x for x in data.width]\n",
    "data['n_x'] = [x/y for x,y in zip(data.x,data.width)]\n",
    "data['n_y'] = [x/y for x,y in zip(data.y,data.height)]\n",
    "data['n_bbox_width'] = [x/y for x,y in zip(data.bbox_width,data.width)]\n",
    "data['n_bbox_height'] = [x/y for x,y in zip(data.bbox_height,data.height)]"
   ]
  },
  {
   "cell_type": "code",
   "execution_count": 58,
   "id": "8c151958",
   "metadata": {
    "scrolled": false
   },
   "outputs": [
    {
     "data": {
      "text/html": [
       "<div>\n",
       "<style scoped>\n",
       "    .dataframe tbody tr th:only-of-type {\n",
       "        vertical-align: middle;\n",
       "    }\n",
       "\n",
       "    .dataframe tbody tr th {\n",
       "        vertical-align: top;\n",
       "    }\n",
       "\n",
       "    .dataframe thead th {\n",
       "        text-align: right;\n",
       "    }\n",
       "</style>\n",
       "<table border=\"1\" class=\"dataframe\">\n",
       "  <thead>\n",
       "    <tr style=\"text-align: right;\">\n",
       "      <th></th>\n",
       "      <th>id</th>\n",
       "      <th>height</th>\n",
       "      <th>width</th>\n",
       "      <th>x</th>\n",
       "      <th>y</th>\n",
       "      <th>bbox_width</th>\n",
       "      <th>bbox_height</th>\n",
       "      <th>n_height</th>\n",
       "      <th>n_width</th>\n",
       "      <th>n_bbox_width</th>\n",
       "      <th>n_bbox_height</th>\n",
       "      <th>n_x</th>\n",
       "      <th>n_y</th>\n",
       "    </tr>\n",
       "  </thead>\n",
       "  <tbody>\n",
       "    <tr>\n",
       "      <th>0</th>\n",
       "      <td>0</td>\n",
       "      <td>330</td>\n",
       "      <td>1093</td>\n",
       "      <td>69</td>\n",
       "      <td>464</td>\n",
       "      <td>312</td>\n",
       "      <td>175</td>\n",
       "      <td>1.0</td>\n",
       "      <td>1.0</td>\n",
       "      <td>0.285453</td>\n",
       "      <td>0.530303</td>\n",
       "      <td>0.063129</td>\n",
       "      <td>1.406061</td>\n",
       "    </tr>\n",
       "    <tr>\n",
       "      <th>1</th>\n",
       "      <td>1</td>\n",
       "      <td>782</td>\n",
       "      <td>439</td>\n",
       "      <td>359</td>\n",
       "      <td>292</td>\n",
       "      <td>83</td>\n",
       "      <td>199</td>\n",
       "      <td>1.0</td>\n",
       "      <td>1.0</td>\n",
       "      <td>0.189066</td>\n",
       "      <td>0.254476</td>\n",
       "      <td>0.817768</td>\n",
       "      <td>0.373402</td>\n",
       "    </tr>\n",
       "    <tr>\n",
       "      <th>2</th>\n",
       "      <td>3</td>\n",
       "      <td>645</td>\n",
       "      <td>831</td>\n",
       "      <td>297</td>\n",
       "      <td>312</td>\n",
       "      <td>267</td>\n",
       "      <td>167</td>\n",
       "      <td>1.0</td>\n",
       "      <td>1.0</td>\n",
       "      <td>0.321300</td>\n",
       "      <td>0.258915</td>\n",
       "      <td>0.357401</td>\n",
       "      <td>0.483721</td>\n",
       "    </tr>\n",
       "    <tr>\n",
       "      <th>3</th>\n",
       "      <td>34</td>\n",
       "      <td>943</td>\n",
       "      <td>608</td>\n",
       "      <td>275</td>\n",
       "      <td>112</td>\n",
       "      <td>319</td>\n",
       "      <td>290</td>\n",
       "      <td>1.0</td>\n",
       "      <td>1.0</td>\n",
       "      <td>0.524671</td>\n",
       "      <td>0.307529</td>\n",
       "      <td>0.452303</td>\n",
       "      <td>0.118770</td>\n",
       "    </tr>\n",
       "    <tr>\n",
       "      <th>4</th>\n",
       "      <td>20</td>\n",
       "      <td>593</td>\n",
       "      <td>857</td>\n",
       "      <td>71</td>\n",
       "      <td>368</td>\n",
       "      <td>146</td>\n",
       "      <td>147</td>\n",
       "      <td>1.0</td>\n",
       "      <td>1.0</td>\n",
       "      <td>0.170362</td>\n",
       "      <td>0.247892</td>\n",
       "      <td>0.082847</td>\n",
       "      <td>0.620573</td>\n",
       "    </tr>\n",
       "  </tbody>\n",
       "</table>\n",
       "</div>"
      ],
      "text/plain": [
       "   id  height  width    x    y  bbox_width  bbox_height  n_height  n_width  \\\n",
       "0   0     330   1093   69  464         312          175       1.0      1.0   \n",
       "1   1     782    439  359  292          83          199       1.0      1.0   \n",
       "2   3     645    831  297  312         267          167       1.0      1.0   \n",
       "3  34     943    608  275  112         319          290       1.0      1.0   \n",
       "4  20     593    857   71  368         146          147       1.0      1.0   \n",
       "\n",
       "   n_bbox_width  n_bbox_height       n_x       n_y  \n",
       "0      0.285453       0.530303  0.063129  1.406061  \n",
       "1      0.189066       0.254476  0.817768  0.373402  \n",
       "2      0.321300       0.258915  0.357401  0.483721  \n",
       "3      0.524671       0.307529  0.452303  0.118770  \n",
       "4      0.170362       0.247892  0.082847  0.620573  "
      ]
     },
     "execution_count": 58,
     "metadata": {},
     "output_type": "execute_result"
    }
   ],
   "source": [
    "data.head()"
   ]
  },
  {
   "cell_type": "code",
   "execution_count": 59,
   "id": "f3de765f",
   "metadata": {},
   "outputs": [
    {
     "data": {
      "text/plain": [
       "<matplotlib.collections.PathCollection at 0x7f88648c5c40>"
      ]
     },
     "execution_count": 59,
     "metadata": {},
     "output_type": "execute_result"
    },
    {
     "data": {
      "image/png": "[encoded data removed]",
      "text/plain": [
       "<Figure size 432x288 with 1 Axes>"
      ]
     },
     "metadata": {
      "needs_background": "light"
     },
     "output_type": "display_data"
    }
   ],
   "source": [
    "plt.scatter(data['n_bbox_width'],data['n_bbox_height'])"
   ]
  },
  {
   "cell_type": "code",
   "execution_count": 63,
   "id": "863e6a7d",
   "metadata": {},
   "outputs": [],
   "source": [
    "X = data[['n_bbox_width','n_bbox_height']]"
   ]
  },
  {
   "cell_type": "code",
   "execution_count": 64,
   "id": "1270006d",
   "metadata": {},
   "outputs": [
    {
     "data": {
      "image/png": "[encoded data removed]",
      "text/plain": [
       "<Figure size 432x288 with 1 Axes>"
      ]
     },
     "metadata": {
      "needs_background": "light"
     },
     "output_type": "display_data"
    }
   ],
   "source": [
    "wcss = []\n",
    "\n",
    "for i in range(1, 11):\n",
    "    kmeans = KMeans(n_clusters=i, init='k-means++', max_iter=300, n_init=10, random_state=0)\n",
    "    kmeans.fit(X)\n",
    "    wcss.append(kmeans.inertia_)\n",
    "plt.plot(range(1, 11), wcss)\n",
    "plt.title('Elbow Method')\n",
    "plt.xlabel('Number of clusters')\n",
    "plt.ylabel('WCSS')\n",
    "plt.show()"
   ]
  },
  {
   "cell_type": "code",
   "execution_count": 69,
   "id": "3e63dd2e",
   "metadata": {},
   "outputs": [
    {
     "data": {
      "image/png": "[encoded data removed]",
      "text/plain": [
       "<Figure size 432x288 with 1 Axes>"
      ]
     },
     "metadata": {
      "needs_background": "light"
     },
     "output_type": "display_data"
    }
   ],
   "source": [
    "kmeans = KMeans(n_clusters=6, init='k-means++', max_iter=300, n_init=10, random_state=0)\n",
    "pred_y = kmeans.fit_predict(X)\n",
    "plt.scatter(X['n_bbox_width'], X['n_bbox_height'])\n",
    "plt.scatter(kmeans.cluster_centers_[:, 0], kmeans.cluster_centers_[:, 1], s=300, c='red')\n",
    "plt.show()"
   ]
  },
  {
   "cell_type": "code",
   "execution_count": 68,
   "id": "33444aa5",
   "metadata": {},
   "outputs": [
    {
     "data": {
      "text/plain": [
       "0        0.285453\n",
       "1        0.189066\n",
       "2        0.321300\n",
       "3        0.524671\n",
       "4        0.170362\n",
       "           ...   \n",
       "10100    0.425455\n",
       "10101    0.411765\n",
       "10102    0.446617\n",
       "10103    0.415008\n",
       "10104    0.628684\n",
       "Name: n_bbox_width, Length: 10105, dtype: float64"
      ]
     },
     "execution_count": 68,
     "metadata": {},
     "output_type": "execute_result"
    }
   ],
   "source": [
    "X['n_bbox_width']"
   ]
  },
  {
   "cell_type": "code",
   "execution_count": 71,
   "id": "163bbc9b",
   "metadata": {},
   "outputs": [
    {
     "data": {
      "text/plain": [
       "'../data/sample_coco.txt'"
      ]
     },
     "execution_count": 71,
     "metadata": {},
     "output_type": "execute_result"
    }
   ],
   "source": [
    "path"
   ]
  },
  {
   "cell_type": "code",
   "execution_count": 72,
   "id": "cee97ce8",
   "metadata": {},
   "outputs": [],
   "source": [
    "X.to_csv('../data/kmeans.csv',index=False)"
   ]
  },
  {
   "cell_type": "code",
   "execution_count": null,
   "id": "ce0fd6b9",
   "metadata": {},
   "outputs": [],
   "source": []
  }
 ],
 "metadata": {
  "kernelspec": {
   "display_name": "Python 3.9.5 64-bit",
   "language": "python",
   "name": "python395jvsc74a57bd031f2aee4e71d21fbe5cf8b01ff0e069b9275f58929596ceb00d14d90e3e16cd6"
  },
  "language_info": {
   "codemirror_mode": {
    "name": "ipython",
    "version": 3
   },
   "file_extension": ".py",
   "mimetype": "text/x-python",
   "name": "python",
   "nbconvert_exporter": "python",
   "pygments_lexer": "ipython3",
   "version": "3.9.5"
  }
 },
 "nbformat": 4,
 "nbformat_minor": 5
}
