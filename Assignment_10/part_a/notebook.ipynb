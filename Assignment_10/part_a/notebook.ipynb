{
 "cells": [
  {
   "cell_type": "code",
   "execution_count": 4,
   "metadata": {},
   "outputs": [],
   "source": [
    "!export HTTP_PROXY=\"http://10.68.69.53:80\"\n",
    "!export HTTPS_PROXY=\"http://10.68.69.53:80\"\n",
    "\n",
    "!export http_proxy=\"http://10.68.69.53:80\"\n",
    "!export https_proxy=\"http://10.68.69.53:80\"\n"
   ]
  },
  {
   "cell_type": "code",
   "execution_count": 1,
   "metadata": {},
   "outputs": [
    {
     "name": "stdout",
     "output_type": "stream",
     "text": [
      "--2021-07-15 13:51:27--  http://cs231n.stanford.edu/tiny-imagenet-200.zip\n",
      "Connecting to 10.68.69.53:80... connected.\n",
      "Proxy request sent, awaiting response... 200 OK\n",
      "Length: 248100043 (237M) [application/zip]\n",
      "Saving to: ‘tiny-imagenet-200.zip.1’\n",
      "\n",
      "100%[======================================>] 248,100,043 43.8MB/s   in 5.9s   \n",
      "\n",
      "2021-07-15 13:51:34 (40.2 MB/s) - ‘tiny-imagenet-200.zip.1’ saved [248100043/248100043]\n",
      "\n"
     ]
    }
   ],
   "source": [
    "!wget http://cs231n.stanford.edu/tiny-imagenet-200.zip"
   ]
  },
  {
   "cell_type": "code",
   "execution_count": null,
   "metadata": {},
   "outputs": [],
   "source": [
    "!git clone https://github.com/RajamannarAanjaram/EVA-6.git"
   ]
  },
  {
   "cell_type": "code",
   "execution_count": null,
   "metadata": {},
   "outputs": [],
   "source": [
    "!pip install -U albumentations\n",
    "!pip install -U torchsummary\n",
    "!pip install -U grad-cam\n",
    "!pip install -U ttach\n",
    "!pip install -U torch-lr-finder"
   ]
  },
  {
   "cell_type": "code",
   "execution_count": 1,
   "metadata": {},
   "outputs": [],
   "source": [
    "import sys\n",
    "sys.path.append(\"../../EVA-6/\") # for servre\n",
    "\n",
    "sys.path.append(\"./EVA-6/\")# for local"
   ]
  },
  {
   "cell_type": "code",
   "execution_count": 2,
   "metadata": {},
   "outputs": [],
   "source": [
    "from utils.DataLoader import Loader,mean_std,DeNorm\n",
    "from src.models import *\n",
    "from src.optimise import *\n",
    "from src.plots import Plots\n",
    "import matplotlib.pyplot as plt\n",
    "from utils.helper import get_mean_std\n",
    "from torch_lr_finder import LRFinder\n",
    "from torch.optim.lr_scheduler import OneCycleLR\n",
    "\n",
    "\n",
    "from pytorch_grad_cam import GradCAM, XGradCAM\n",
    "from pytorch_grad_cam.utils.image import show_cam_on_image\n",
    "\n",
    "\n",
    "# import seaborn as sns\n",
    "import matplotlib.pyplot as plt\n",
    "\n",
    "%load_ext autoreload\n",
    "%autoreload 2\n",
    "import warnings\n",
    "warnings.filterwarnings('ignore')"
   ]
  },
  {
   "cell_type": "code",
   "execution_count": 3,
   "metadata": {},
   "outputs": [],
   "source": [
    "import torchvision.datasets as datasets\n",
    "import torchvision.transforms as transforms\n",
    "import torch.utils.data as data"
   ]
  },
  {
   "cell_type": "code",
   "execution_count": 4,
   "metadata": {},
   "outputs": [
    {
     "name": "stdout",
     "output_type": "stream",
     "text": [
      "Loaded: %s ./tiny-imagenet-200/val\n"
     ]
    }
   ],
   "source": [
    "val_dir = './tiny-imagenet-200/val'\n",
    "val_dataset = datasets.ImageFolder(val_dir, transform=transforms.ToTensor())\n",
    "val_loader = data.DataLoader(val_dataset, batch_size=32)\n",
    "print(\"Loaded: %s\", val_dir)"
   ]
  },
  {
   "cell_type": "code",
   "execution_count": 5,
   "metadata": {},
   "outputs": [
    {
     "name": "stdout",
     "output_type": "stream",
     "text": [
      "======> Computing mean and std of dataset\n"
     ]
    },
    {
     "name": "stderr",
     "output_type": "stream",
     "text": [
      "100%|██████████| 781/781 [00:41<00:00, 19.04it/s]\n"
     ]
    }
   ],
   "source": [
    "loader = Loader(batch_size=128,data=\"TINYIMAGENET\")\n",
    "train_transform,test_transform = loader.transform()\n",
    "train_data,test_data = loader.Loader(train_transform,test_transform, cuda=True)"
   ]
  },
  {
   "cell_type": "markdown",
   "metadata": {},
   "source": [
    "## Model Creation & Training"
   ]
  },
  {
   "cell_type": "code",
   "execution_count": 6,
   "metadata": {},
   "outputs": [
    {
     "name": "stdout",
     "output_type": "stream",
     "text": [
      "----------------------------------------------------------------\n",
      "        Layer (type)               Output Shape         Param #\n",
      "================================================================\n",
      "            Conv2d-1           [-1, 64, 64, 64]           1,728\n",
      "       BatchNorm2d-2           [-1, 64, 64, 64]             128\n",
      "            Conv2d-3           [-1, 64, 64, 64]          36,864\n",
      "       BatchNorm2d-4           [-1, 64, 64, 64]             128\n",
      "            Conv2d-5           [-1, 64, 64, 64]          36,864\n",
      "       BatchNorm2d-6           [-1, 64, 64, 64]             128\n",
      "        BasicBlock-7           [-1, 64, 64, 64]               0\n",
      "            Conv2d-8           [-1, 64, 64, 64]          36,864\n",
      "       BatchNorm2d-9           [-1, 64, 64, 64]             128\n",
      "           Conv2d-10           [-1, 64, 64, 64]          36,864\n",
      "      BatchNorm2d-11           [-1, 64, 64, 64]             128\n",
      "       BasicBlock-12           [-1, 64, 64, 64]               0\n",
      "           Conv2d-13          [-1, 128, 32, 32]          73,728\n",
      "      BatchNorm2d-14          [-1, 128, 32, 32]             256\n",
      "           Conv2d-15          [-1, 128, 32, 32]         147,456\n",
      "      BatchNorm2d-16          [-1, 128, 32, 32]             256\n",
      "           Conv2d-17          [-1, 128, 32, 32]           8,192\n",
      "      BatchNorm2d-18          [-1, 128, 32, 32]             256\n",
      "       BasicBlock-19          [-1, 128, 32, 32]               0\n",
      "           Conv2d-20          [-1, 128, 32, 32]         147,456\n",
      "      BatchNorm2d-21          [-1, 128, 32, 32]             256\n",
      "           Conv2d-22          [-1, 128, 32, 32]         147,456\n",
      "      BatchNorm2d-23          [-1, 128, 32, 32]             256\n",
      "       BasicBlock-24          [-1, 128, 32, 32]               0\n",
      "           Conv2d-25          [-1, 256, 16, 16]         294,912\n",
      "      BatchNorm2d-26          [-1, 256, 16, 16]             512\n",
      "           Conv2d-27          [-1, 256, 16, 16]         589,824\n",
      "      BatchNorm2d-28          [-1, 256, 16, 16]             512\n",
      "           Conv2d-29          [-1, 256, 16, 16]          32,768\n",
      "      BatchNorm2d-30          [-1, 256, 16, 16]             512\n",
      "       BasicBlock-31          [-1, 256, 16, 16]               0\n",
      "           Conv2d-32          [-1, 256, 16, 16]         589,824\n",
      "      BatchNorm2d-33          [-1, 256, 16, 16]             512\n",
      "           Conv2d-34          [-1, 256, 16, 16]         589,824\n",
      "      BatchNorm2d-35          [-1, 256, 16, 16]             512\n",
      "       BasicBlock-36          [-1, 256, 16, 16]               0\n",
      "           Conv2d-37            [-1, 512, 8, 8]       1,179,648\n",
      "      BatchNorm2d-38            [-1, 512, 8, 8]           1,024\n",
      "           Conv2d-39            [-1, 512, 8, 8]       2,359,296\n",
      "      BatchNorm2d-40            [-1, 512, 8, 8]           1,024\n",
      "           Conv2d-41            [-1, 512, 8, 8]         131,072\n",
      "      BatchNorm2d-42            [-1, 512, 8, 8]           1,024\n",
      "       BasicBlock-43            [-1, 512, 8, 8]               0\n",
      "           Conv2d-44            [-1, 512, 8, 8]       2,359,296\n",
      "      BatchNorm2d-45            [-1, 512, 8, 8]           1,024\n",
      "           Conv2d-46            [-1, 512, 8, 8]       2,359,296\n",
      "      BatchNorm2d-47            [-1, 512, 8, 8]           1,024\n",
      "       BasicBlock-48            [-1, 512, 8, 8]               0\n",
      "AdaptiveAvgPool2d-49            [-1, 512, 1, 1]               0\n",
      "           Linear-50                  [-1, 200]         102,600\n",
      "================================================================\n",
      "Total params: 11,271,432\n",
      "Trainable params: 11,271,432\n",
      "Non-trainable params: 0\n",
      "----------------------------------------------------------------\n",
      "Input size (MB): 0.05\n",
      "Forward/backward pass size (MB): 45.01\n",
      "Params size (MB): 43.00\n",
      "Estimated Total Size (MB): 88.05\n",
      "----------------------------------------------------------------\n"
     ]
    }
   ],
   "source": [
    "model, summary = ModelLoader.modelsummary(version=[2,2,2,2],inputsize=(3,64,64),num_classes=200)"
   ]
  },
  {
   "cell_type": "code",
   "execution_count": 7,
   "metadata": {},
   "outputs": [],
   "source": [
    "use_cuda = torch.cuda.is_available()\n",
    "device = 'cuda:0' if use_cuda else 'cpu'"
   ]
  },
  {
   "cell_type": "code",
   "execution_count": 8,
   "metadata": {
    "scrolled": false
   },
   "outputs": [
    {
     "name": "stderr",
     "output_type": "stream",
     "text": [
      "\r",
      "  0%|          | 0/782 [00:00<?, ?it/s]"
     ]
    },
    {
     "name": "stdout",
     "output_type": "stream",
     "text": [
      "Epoch 1:\n"
     ]
    },
    {
     "name": "stderr",
     "output_type": "stream",
     "text": [
      "Loss=4.791640281677246 Batch_id=781 Accuracy=4.32: 100%|██████████| 782/782 [01:35<00:00,  8.23it/s] \n",
      "  0%|          | 0/782 [00:00<?, ?it/s]"
     ]
    },
    {
     "name": "stdout",
     "output_type": "stream",
     "text": [
      "\n",
      "Test set: Average loss: 6.6570, Accuracy: 43/10000 (0.43%)\n",
      "\n",
      "Epoch 2:\n"
     ]
    },
    {
     "name": "stderr",
     "output_type": "stream",
     "text": [
      "Loss=3.7697792053222656 Batch_id=781 Accuracy=9.60: 100%|██████████| 782/782 [01:35<00:00,  8.19it/s]\n",
      "  0%|          | 0/782 [00:00<?, ?it/s]"
     ]
    },
    {
     "name": "stdout",
     "output_type": "stream",
     "text": [
      "\n",
      "Test set: Average loss: 6.5831, Accuracy: 212/10000 (2.12%)\n",
      "\n",
      "Epoch 3:\n"
     ]
    },
    {
     "name": "stderr",
     "output_type": "stream",
     "text": [
      "Loss=4.1085734367370605 Batch_id=781 Accuracy=13.68: 100%|██████████| 782/782 [01:36<00:00,  8.08it/s]\n",
      "  0%|          | 0/782 [00:00<?, ?it/s]"
     ]
    },
    {
     "name": "stdout",
     "output_type": "stream",
     "text": [
      "\n",
      "Test set: Average loss: 7.5696, Accuracy: 41/10000 (0.41%)\n",
      "\n",
      "Epoch 4:\n"
     ]
    },
    {
     "name": "stderr",
     "output_type": "stream",
     "text": [
      "Loss=3.6955928802490234 Batch_id=781 Accuracy=16.87: 100%|██████████| 782/782 [01:35<00:00,  8.19it/s]\n",
      "  0%|          | 0/782 [00:00<?, ?it/s]"
     ]
    },
    {
     "name": "stdout",
     "output_type": "stream",
     "text": [
      "\n",
      "Test set: Average loss: 7.2038, Accuracy: 91/10000 (0.91%)\n",
      "\n",
      "Epoch 5:\n"
     ]
    },
    {
     "name": "stderr",
     "output_type": "stream",
     "text": [
      "Loss=3.7882609367370605 Batch_id=781 Accuracy=19.46: 100%|██████████| 782/782 [01:35<00:00,  8.20it/s]\n",
      "  0%|          | 0/782 [00:00<?, ?it/s]"
     ]
    },
    {
     "name": "stdout",
     "output_type": "stream",
     "text": [
      "\n",
      "Test set: Average loss: 7.7982, Accuracy: 60/10000 (0.60%)\n",
      "\n",
      "Epoch 6:\n"
     ]
    },
    {
     "name": "stderr",
     "output_type": "stream",
     "text": [
      "Loss=3.2701330184936523 Batch_id=781 Accuracy=22.02: 100%|██████████| 782/782 [01:35<00:00,  8.20it/s]\n",
      "  0%|          | 0/782 [00:00<?, ?it/s]"
     ]
    },
    {
     "name": "stdout",
     "output_type": "stream",
     "text": [
      "\n",
      "Test set: Average loss: 7.9997, Accuracy: 47/10000 (0.47%)\n",
      "\n",
      "Epoch 7:\n"
     ]
    },
    {
     "name": "stderr",
     "output_type": "stream",
     "text": [
      "Loss=3.6825156211853027 Batch_id=781 Accuracy=23.87: 100%|██████████| 782/782 [01:35<00:00,  8.19it/s]\n",
      "  0%|          | 0/782 [00:00<?, ?it/s]"
     ]
    },
    {
     "name": "stdout",
     "output_type": "stream",
     "text": [
      "\n",
      "Test set: Average loss: 8.2171, Accuracy: 43/10000 (0.43%)\n",
      "\n",
      "Epoch 8:\n"
     ]
    },
    {
     "name": "stderr",
     "output_type": "stream",
     "text": [
      "Loss=3.2146620750427246 Batch_id=781 Accuracy=25.65: 100%|██████████| 782/782 [01:35<00:00,  8.21it/s]\n",
      "  0%|          | 0/782 [00:00<?, ?it/s]"
     ]
    },
    {
     "name": "stdout",
     "output_type": "stream",
     "text": [
      "\n",
      "Test set: Average loss: 8.0219, Accuracy: 54/10000 (0.54%)\n",
      "\n",
      "Epoch 9:\n"
     ]
    },
    {
     "name": "stderr",
     "output_type": "stream",
     "text": [
      "Loss=3.3262734413146973 Batch_id=781 Accuracy=27.33: 100%|██████████| 782/782 [01:35<00:00,  8.20it/s]\n",
      "  0%|          | 0/782 [00:00<?, ?it/s]"
     ]
    },
    {
     "name": "stdout",
     "output_type": "stream",
     "text": [
      "\n",
      "Test set: Average loss: 8.1146, Accuracy: 74/10000 (0.74%)\n",
      "\n",
      "Epoch 10:\n"
     ]
    },
    {
     "name": "stderr",
     "output_type": "stream",
     "text": [
      "Loss=3.4270644187927246 Batch_id=781 Accuracy=29.02: 100%|██████████| 782/782 [01:35<00:00,  8.21it/s]\n",
      "  0%|          | 0/782 [00:00<?, ?it/s]"
     ]
    },
    {
     "name": "stdout",
     "output_type": "stream",
     "text": [
      "\n",
      "Test set: Average loss: 8.3562, Accuracy: 35/10000 (0.35%)\n",
      "\n",
      "Epoch 11:\n"
     ]
    },
    {
     "name": "stderr",
     "output_type": "stream",
     "text": [
      "Loss=3.142592191696167 Batch_id=781 Accuracy=30.17: 100%|██████████| 782/782 [01:35<00:00,  8.22it/s] \n",
      "  0%|          | 0/782 [00:00<?, ?it/s]"
     ]
    },
    {
     "name": "stdout",
     "output_type": "stream",
     "text": [
      "\n",
      "Test set: Average loss: 7.8664, Accuracy: 83/10000 (0.83%)\n",
      "\n",
      "Epoch 12:\n"
     ]
    },
    {
     "name": "stderr",
     "output_type": "stream",
     "text": [
      "Loss=2.6232500076293945 Batch_id=781 Accuracy=31.30: 100%|██████████| 782/782 [01:35<00:00,  8.19it/s]\n",
      "  0%|          | 0/782 [00:00<?, ?it/s]"
     ]
    },
    {
     "name": "stdout",
     "output_type": "stream",
     "text": [
      "\n",
      "Test set: Average loss: 8.3764, Accuracy: 58/10000 (0.58%)\n",
      "\n",
      "Epoch 13:\n"
     ]
    },
    {
     "name": "stderr",
     "output_type": "stream",
     "text": [
      "Loss=3.1652493476867676 Batch_id=781 Accuracy=32.59: 100%|██████████| 782/782 [01:35<00:00,  8.20it/s]\n",
      "  0%|          | 0/782 [00:00<?, ?it/s]"
     ]
    },
    {
     "name": "stdout",
     "output_type": "stream",
     "text": [
      "\n",
      "Test set: Average loss: 9.3351, Accuracy: 29/10000 (0.29%)\n",
      "\n",
      "Epoch 14:\n"
     ]
    },
    {
     "name": "stderr",
     "output_type": "stream",
     "text": [
      "Loss=2.758798599243164 Batch_id=781 Accuracy=33.66: 100%|██████████| 782/782 [01:35<00:00,  8.20it/s] \n",
      "  0%|          | 0/782 [00:00<?, ?it/s]"
     ]
    },
    {
     "name": "stdout",
     "output_type": "stream",
     "text": [
      "\n",
      "Test set: Average loss: 9.1007, Accuracy: 38/10000 (0.38%)\n",
      "\n",
      "Epoch 15:\n"
     ]
    },
    {
     "name": "stderr",
     "output_type": "stream",
     "text": [
      "Loss=3.1397650241851807 Batch_id=781 Accuracy=34.72: 100%|██████████| 782/782 [01:36<00:00,  8.10it/s]\n",
      "  0%|          | 0/782 [00:00<?, ?it/s]"
     ]
    },
    {
     "name": "stdout",
     "output_type": "stream",
     "text": [
      "\n",
      "Test set: Average loss: 9.1557, Accuracy: 31/10000 (0.31%)\n",
      "\n",
      "Epoch 16:\n"
     ]
    },
    {
     "name": "stderr",
     "output_type": "stream",
     "text": [
      "Loss=3.417494773864746 Batch_id=781 Accuracy=35.66: 100%|██████████| 782/782 [01:35<00:00,  8.19it/s] \n",
      "  0%|          | 0/782 [00:00<?, ?it/s]"
     ]
    },
    {
     "name": "stdout",
     "output_type": "stream",
     "text": [
      "\n",
      "Test set: Average loss: 9.3891, Accuracy: 30/10000 (0.30%)\n",
      "\n",
      "Epoch 17:\n"
     ]
    },
    {
     "name": "stderr",
     "output_type": "stream",
     "text": [
      "Loss=3.3322737216949463 Batch_id=781 Accuracy=36.71: 100%|██████████| 782/782 [01:36<00:00,  8.09it/s]\n",
      "  0%|          | 0/782 [00:00<?, ?it/s]"
     ]
    },
    {
     "name": "stdout",
     "output_type": "stream",
     "text": [
      "\n",
      "Test set: Average loss: 8.9007, Accuracy: 58/10000 (0.58%)\n",
      "\n",
      "Epoch 18:\n"
     ]
    },
    {
     "name": "stderr",
     "output_type": "stream",
     "text": [
      "Loss=2.9679696559906006 Batch_id=781 Accuracy=37.40: 100%|██████████| 782/782 [01:35<00:00,  8.21it/s]\n",
      "  0%|          | 0/782 [00:00<?, ?it/s]"
     ]
    },
    {
     "name": "stdout",
     "output_type": "stream",
     "text": [
      "\n",
      "Test set: Average loss: 9.2217, Accuracy: 29/10000 (0.29%)\n",
      "\n",
      "Epoch 19:\n"
     ]
    },
    {
     "name": "stderr",
     "output_type": "stream",
     "text": [
      "Loss=2.251391887664795 Batch_id=781 Accuracy=38.15: 100%|██████████| 782/782 [01:35<00:00,  8.16it/s] \n",
      "  0%|          | 0/782 [00:00<?, ?it/s]"
     ]
    },
    {
     "name": "stdout",
     "output_type": "stream",
     "text": [
      "\n",
      "Test set: Average loss: 9.3111, Accuracy: 34/10000 (0.34%)\n",
      "\n",
      "Epoch 20:\n"
     ]
    },
    {
     "name": "stderr",
     "output_type": "stream",
     "text": [
      "Loss=2.4217350482940674 Batch_id=781 Accuracy=39.19: 100%|██████████| 782/782 [01:35<00:00,  8.19it/s]\n",
      "  0%|          | 0/782 [00:00<?, ?it/s]"
     ]
    },
    {
     "name": "stdout",
     "output_type": "stream",
     "text": [
      "\n",
      "Test set: Average loss: 9.3729, Accuracy: 40/10000 (0.40%)\n",
      "\n",
      "Epoch 21:\n"
     ]
    },
    {
     "name": "stderr",
     "output_type": "stream",
     "text": [
      "Loss=3.449260711669922 Batch_id=781 Accuracy=39.95: 100%|██████████| 782/782 [01:35<00:00,  8.19it/s] \n",
      "  0%|          | 0/782 [00:00<?, ?it/s]"
     ]
    },
    {
     "name": "stdout",
     "output_type": "stream",
     "text": [
      "\n",
      "Test set: Average loss: 9.3157, Accuracy: 40/10000 (0.40%)\n",
      "\n",
      "Epoch 22:\n"
     ]
    },
    {
     "name": "stderr",
     "output_type": "stream",
     "text": [
      "Loss=2.1522395610809326 Batch_id=781 Accuracy=40.79: 100%|██████████| 782/782 [01:35<00:00,  8.19it/s]\n",
      "  0%|          | 0/782 [00:00<?, ?it/s]"
     ]
    },
    {
     "name": "stdout",
     "output_type": "stream",
     "text": [
      "\n",
      "Test set: Average loss: 9.5754, Accuracy: 40/10000 (0.40%)\n",
      "\n",
      "Epoch 23:\n"
     ]
    },
    {
     "name": "stderr",
     "output_type": "stream",
     "text": [
      "Loss=2.245272159576416 Batch_id=781 Accuracy=41.17: 100%|██████████| 782/782 [01:35<00:00,  8.19it/s] \n",
      "  0%|          | 0/782 [00:00<?, ?it/s]"
     ]
    },
    {
     "name": "stdout",
     "output_type": "stream",
     "text": [
      "\n",
      "Test set: Average loss: 9.5874, Accuracy: 30/10000 (0.30%)\n",
      "\n",
      "Epoch 24:\n"
     ]
    },
    {
     "name": "stderr",
     "output_type": "stream",
     "text": [
      "Loss=2.279550552368164 Batch_id=781 Accuracy=42.13: 100%|██████████| 782/782 [01:35<00:00,  8.18it/s] \n",
      "  0%|          | 0/782 [00:00<?, ?it/s]"
     ]
    },
    {
     "name": "stdout",
     "output_type": "stream",
     "text": [
      "\n",
      "Test set: Average loss: 9.6868, Accuracy: 35/10000 (0.35%)\n",
      "\n",
      "Epoch 25:\n"
     ]
    },
    {
     "name": "stderr",
     "output_type": "stream",
     "text": [
      "Loss=2.8508543968200684 Batch_id=781 Accuracy=42.93: 100%|██████████| 782/782 [01:35<00:00,  8.17it/s]\n",
      "  0%|          | 0/782 [00:00<?, ?it/s]"
     ]
    },
    {
     "name": "stdout",
     "output_type": "stream",
     "text": [
      "\n",
      "Test set: Average loss: 9.6515, Accuracy: 34/10000 (0.34%)\n",
      "\n",
      "Epoch 26:\n"
     ]
    },
    {
     "name": "stderr",
     "output_type": "stream",
     "text": [
      "Loss=2.558565378189087 Batch_id=781 Accuracy=43.40: 100%|██████████| 782/782 [01:35<00:00,  8.21it/s] \n",
      "  0%|          | 0/782 [00:00<?, ?it/s]"
     ]
    },
    {
     "name": "stdout",
     "output_type": "stream",
     "text": [
      "\n",
      "Test set: Average loss: 10.2155, Accuracy: 30/10000 (0.30%)\n",
      "\n",
      "Epoch 27:\n"
     ]
    },
    {
     "name": "stderr",
     "output_type": "stream",
     "text": [
      "Loss=2.688124895095825 Batch_id=781 Accuracy=44.16: 100%|██████████| 782/782 [01:35<00:00,  8.19it/s] \n",
      "  0%|          | 0/782 [00:00<?, ?it/s]"
     ]
    },
    {
     "name": "stdout",
     "output_type": "stream",
     "text": [
      "\n",
      "Test set: Average loss: 9.5950, Accuracy: 44/10000 (0.44%)\n",
      "\n",
      "Epoch 28:\n"
     ]
    },
    {
     "name": "stderr",
     "output_type": "stream",
     "text": [
      "Loss=2.611909866333008 Batch_id=781 Accuracy=44.60: 100%|██████████| 782/782 [01:36<00:00,  8.10it/s] \n",
      "  0%|          | 0/782 [00:00<?, ?it/s]"
     ]
    },
    {
     "name": "stdout",
     "output_type": "stream",
     "text": [
      "\n",
      "Test set: Average loss: 9.7228, Accuracy: 47/10000 (0.47%)\n",
      "\n",
      "Epoch 29:\n"
     ]
    },
    {
     "name": "stderr",
     "output_type": "stream",
     "text": [
      "Loss=2.7099084854125977 Batch_id=781 Accuracy=45.16: 100%|██████████| 782/782 [01:36<00:00,  8.13it/s]\n",
      "  0%|          | 0/782 [00:00<?, ?it/s]"
     ]
    },
    {
     "name": "stdout",
     "output_type": "stream",
     "text": [
      "\n",
      "Test set: Average loss: 9.3887, Accuracy: 56/10000 (0.56%)\n",
      "\n",
      "Epoch 30:\n"
     ]
    },
    {
     "name": "stderr",
     "output_type": "stream",
     "text": [
      "Loss=2.707061290740967 Batch_id=781 Accuracy=45.70: 100%|██████████| 782/782 [01:35<00:00,  8.19it/s] \n",
      "  0%|          | 0/782 [00:00<?, ?it/s]"
     ]
    },
    {
     "name": "stdout",
     "output_type": "stream",
     "text": [
      "\n",
      "Test set: Average loss: 9.6037, Accuracy: 45/10000 (0.45%)\n",
      "\n",
      "Epoch 31:\n"
     ]
    },
    {
     "name": "stderr",
     "output_type": "stream",
     "text": [
      "Loss=2.866732358932495 Batch_id=781 Accuracy=46.51: 100%|██████████| 782/782 [01:36<00:00,  8.14it/s] \n",
      "  0%|          | 0/782 [00:00<?, ?it/s]"
     ]
    },
    {
     "name": "stdout",
     "output_type": "stream",
     "text": [
      "\n",
      "Test set: Average loss: 9.8979, Accuracy: 39/10000 (0.39%)\n",
      "\n",
      "Epoch 32:\n"
     ]
    },
    {
     "name": "stderr",
     "output_type": "stream",
     "text": [
      "Loss=2.3848257064819336 Batch_id=781 Accuracy=46.83: 100%|██████████| 782/782 [01:35<00:00,  8.15it/s]\n",
      "  0%|          | 0/782 [00:00<?, ?it/s]"
     ]
    },
    {
     "name": "stdout",
     "output_type": "stream",
     "text": [
      "\n",
      "Test set: Average loss: 9.8227, Accuracy: 38/10000 (0.38%)\n",
      "\n",
      "Epoch 33:\n"
     ]
    },
    {
     "name": "stderr",
     "output_type": "stream",
     "text": [
      "Loss=2.3992748260498047 Batch_id=781 Accuracy=47.60: 100%|██████████| 782/782 [01:35<00:00,  8.15it/s]\n",
      "  0%|          | 0/782 [00:00<?, ?it/s]"
     ]
    },
    {
     "name": "stdout",
     "output_type": "stream",
     "text": [
      "\n",
      "Test set: Average loss: 9.9567, Accuracy: 45/10000 (0.45%)\n",
      "\n",
      "Epoch 34:\n"
     ]
    },
    {
     "name": "stderr",
     "output_type": "stream",
     "text": [
      "Loss=1.975061297416687 Batch_id=781 Accuracy=47.94: 100%|██████████| 782/782 [01:38<00:00,  7.95it/s] \n",
      "  0%|          | 0/782 [00:00<?, ?it/s]"
     ]
    },
    {
     "name": "stdout",
     "output_type": "stream",
     "text": [
      "\n",
      "Test set: Average loss: 10.0574, Accuracy: 37/10000 (0.37%)\n",
      "\n",
      "Epoch 35:\n"
     ]
    },
    {
     "name": "stderr",
     "output_type": "stream",
     "text": [
      "Loss=2.666930675506592 Batch_id=781 Accuracy=48.52: 100%|██████████| 782/782 [01:35<00:00,  8.18it/s] \n",
      "  0%|          | 0/782 [00:00<?, ?it/s]"
     ]
    },
    {
     "name": "stdout",
     "output_type": "stream",
     "text": [
      "\n",
      "Test set: Average loss: 10.2396, Accuracy: 48/10000 (0.48%)\n",
      "\n",
      "Epoch 36:\n"
     ]
    },
    {
     "name": "stderr",
     "output_type": "stream",
     "text": [
      "Loss=2.2773711681365967 Batch_id=781 Accuracy=49.17: 100%|██████████| 782/782 [01:35<00:00,  8.16it/s]\n",
      "  0%|          | 0/782 [00:00<?, ?it/s]"
     ]
    },
    {
     "name": "stdout",
     "output_type": "stream",
     "text": [
      "\n",
      "Test set: Average loss: 10.8159, Accuracy: 41/10000 (0.41%)\n",
      "\n",
      "Epoch 37:\n"
     ]
    },
    {
     "name": "stderr",
     "output_type": "stream",
     "text": [
      "Loss=2.180499792098999 Batch_id=781 Accuracy=49.38: 100%|██████████| 782/782 [01:35<00:00,  8.18it/s] \n",
      "  0%|          | 0/782 [00:00<?, ?it/s]"
     ]
    },
    {
     "name": "stdout",
     "output_type": "stream",
     "text": [
      "\n",
      "Test set: Average loss: 10.6043, Accuracy: 35/10000 (0.35%)\n",
      "\n",
      "Epoch 38:\n"
     ]
    },
    {
     "name": "stderr",
     "output_type": "stream",
     "text": [
      "Loss=2.280543327331543 Batch_id=781 Accuracy=49.94: 100%|██████████| 782/782 [01:36<00:00,  8.12it/s] \n",
      "  0%|          | 0/782 [00:00<?, ?it/s]"
     ]
    },
    {
     "name": "stdout",
     "output_type": "stream",
     "text": [
      "\n",
      "Test set: Average loss: 10.1413, Accuracy: 47/10000 (0.47%)\n",
      "\n",
      "Epoch 39:\n"
     ]
    },
    {
     "name": "stderr",
     "output_type": "stream",
     "text": [
      "Loss=2.213228225708008 Batch_id=781 Accuracy=50.28: 100%|██████████| 782/782 [01:35<00:00,  8.16it/s] \n",
      "  0%|          | 0/782 [00:00<?, ?it/s]"
     ]
    },
    {
     "name": "stdout",
     "output_type": "stream",
     "text": [
      "\n",
      "Test set: Average loss: 10.2399, Accuracy: 50/10000 (0.50%)\n",
      "\n",
      "Epoch 40:\n"
     ]
    },
    {
     "name": "stderr",
     "output_type": "stream",
     "text": [
      "Loss=2.4598333835601807 Batch_id=781 Accuracy=50.63: 100%|██████████| 782/782 [01:35<00:00,  8.15it/s]\n",
      "  0%|          | 0/782 [00:00<?, ?it/s]"
     ]
    },
    {
     "name": "stdout",
     "output_type": "stream",
     "text": [
      "\n",
      "Test set: Average loss: 10.2917, Accuracy: 39/10000 (0.39%)\n",
      "\n",
      "Epoch 41:\n"
     ]
    },
    {
     "name": "stderr",
     "output_type": "stream",
     "text": [
      "Loss=2.0917835235595703 Batch_id=781 Accuracy=51.35: 100%|██████████| 782/782 [01:35<00:00,  8.17it/s]\n",
      "  0%|          | 0/782 [00:00<?, ?it/s]"
     ]
    },
    {
     "name": "stdout",
     "output_type": "stream",
     "text": [
      "\n",
      "Test set: Average loss: 10.1466, Accuracy: 45/10000 (0.45%)\n",
      "\n",
      "Epoch 42:\n"
     ]
    },
    {
     "name": "stderr",
     "output_type": "stream",
     "text": [
      "Loss=2.104494094848633 Batch_id=781 Accuracy=51.65: 100%|██████████| 782/782 [01:36<00:00,  8.12it/s] \n",
      "  0%|          | 0/782 [00:00<?, ?it/s]"
     ]
    },
    {
     "name": "stdout",
     "output_type": "stream",
     "text": [
      "\n",
      "Test set: Average loss: 10.1739, Accuracy: 48/10000 (0.48%)\n",
      "\n",
      "Epoch 43:\n"
     ]
    },
    {
     "name": "stderr",
     "output_type": "stream",
     "text": [
      "Loss=2.0186305046081543 Batch_id=781 Accuracy=52.13: 100%|██████████| 782/782 [01:36<00:00,  8.12it/s]\n",
      "  0%|          | 0/782 [00:00<?, ?it/s]"
     ]
    },
    {
     "name": "stdout",
     "output_type": "stream",
     "text": [
      "\n",
      "Test set: Average loss: 10.7786, Accuracy: 36/10000 (0.36%)\n",
      "\n",
      "Epoch 44:\n"
     ]
    },
    {
     "name": "stderr",
     "output_type": "stream",
     "text": [
      "Loss=2.2770321369171143 Batch_id=781 Accuracy=52.71: 100%|██████████| 782/782 [01:36<00:00,  8.12it/s]\n",
      "  0%|          | 0/782 [00:00<?, ?it/s]"
     ]
    },
    {
     "name": "stdout",
     "output_type": "stream",
     "text": [
      "\n",
      "Test set: Average loss: 10.6545, Accuracy: 37/10000 (0.37%)\n",
      "\n",
      "Epoch 45:\n"
     ]
    },
    {
     "name": "stderr",
     "output_type": "stream",
     "text": [
      "Loss=2.1452207565307617 Batch_id=781 Accuracy=52.95: 100%|██████████| 782/782 [01:35<00:00,  8.17it/s]\n",
      "  0%|          | 0/782 [00:00<?, ?it/s]"
     ]
    },
    {
     "name": "stdout",
     "output_type": "stream",
     "text": [
      "\n",
      "Test set: Average loss: 10.7573, Accuracy: 48/10000 (0.48%)\n",
      "\n",
      "Epoch 46:\n"
     ]
    },
    {
     "name": "stderr",
     "output_type": "stream",
     "text": [
      "Loss=2.0779409408569336 Batch_id=781 Accuracy=53.37: 100%|██████████| 782/782 [01:35<00:00,  8.17it/s]\n",
      "  0%|          | 0/782 [00:00<?, ?it/s]"
     ]
    },
    {
     "name": "stdout",
     "output_type": "stream",
     "text": [
      "\n",
      "Test set: Average loss: 10.6767, Accuracy: 43/10000 (0.43%)\n",
      "\n",
      "Epoch 47:\n"
     ]
    },
    {
     "name": "stderr",
     "output_type": "stream",
     "text": [
      "Loss=2.5349180698394775 Batch_id=781 Accuracy=53.90: 100%|██████████| 782/782 [01:35<00:00,  8.16it/s]\n",
      "  0%|          | 0/782 [00:00<?, ?it/s]"
     ]
    },
    {
     "name": "stdout",
     "output_type": "stream",
     "text": [
      "\n",
      "Test set: Average loss: 10.5282, Accuracy: 44/10000 (0.44%)\n",
      "\n",
      "Epoch 48:\n"
     ]
    },
    {
     "name": "stderr",
     "output_type": "stream",
     "text": [
      "Loss=1.735898494720459 Batch_id=781 Accuracy=54.25: 100%|██████████| 782/782 [01:35<00:00,  8.16it/s] \n",
      "  0%|          | 0/782 [00:00<?, ?it/s]"
     ]
    },
    {
     "name": "stdout",
     "output_type": "stream",
     "text": [
      "\n",
      "Test set: Average loss: 10.9651, Accuracy: 35/10000 (0.35%)\n",
      "\n",
      "Epoch 49:\n"
     ]
    },
    {
     "name": "stderr",
     "output_type": "stream",
     "text": [
      "Loss=1.8658931255340576 Batch_id=781 Accuracy=54.40: 100%|██████████| 782/782 [01:35<00:00,  8.17it/s]\n",
      "  0%|          | 0/782 [00:00<?, ?it/s]"
     ]
    },
    {
     "name": "stdout",
     "output_type": "stream",
     "text": [
      "\n",
      "Test set: Average loss: 10.2475, Accuracy: 52/10000 (0.52%)\n",
      "\n",
      "Epoch 50:\n"
     ]
    },
    {
     "name": "stderr",
     "output_type": "stream",
     "text": [
      "Loss=1.8779017925262451 Batch_id=781 Accuracy=54.85: 100%|██████████| 782/782 [01:35<00:00,  8.17it/s]\n"
     ]
    },
    {
     "name": "stdout",
     "output_type": "stream",
     "text": [
      "\n",
      "Test set: Average loss: 11.1428, Accuracy: 37/10000 (0.37%)\n",
      "\n"
     ]
    }
   ],
   "source": [
    "(train_acc, train_losses, test_acc, test_losses), modelfinal = learner(model,train_data,test_data,\n",
    "                                                                       epochs=50,optimiser= 'Adam',\n",
    "                                                                       scheduler=False,device = device)"
   ]
  },
  {
   "cell_type": "markdown",
   "metadata": {},
   "source": [
    "## Loss Curves"
   ]
  },
  {
   "cell_type": "code",
   "execution_count": 9,
   "metadata": {
    "collapsed": true
   },
   "outputs": [
    {
     "data": {
      "image/png": "[encoded data removed]",
      "text/plain": [
       "<Figure size 1008x720 with 4 Axes>"
      ]
     },
     "metadata": {
      "needs_background": "light"
     },
     "output_type": "display_data"
    }
   ],
   "source": [
    "Plots.stat_graph(train_acc, train_losses, test_acc, test_losses)"
   ]
  },
  {
   "cell_type": "code",
   "execution_count": null,
   "metadata": {},
   "outputs": [],
   "source": []
  }
 ],
 "metadata": {
  "kernelspec": {
   "display_name": "base",
   "language": "python",
   "name": "base"
  },
  "language_info": {
   "codemirror_mode": {
    "name": "ipython",
    "version": 3
   },
   "file_extension": ".py",
   "mimetype": "text/x-python",
   "name": "python",
   "nbconvert_exporter": "python",
   "pygments_lexer": "ipython3",
   "version": "3.8.5"
  }
 },
 "nbformat": 4,
 "nbformat_minor": 2
}
