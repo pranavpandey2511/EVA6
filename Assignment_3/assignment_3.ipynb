{
  "nbformat": 4,
  "nbformat_minor": 0,
  "metadata": {
    "accelerator": "GPU",
    "colab": {
      "name": "assignment_3.ipynb",
      "provenance": [],
      "collapsed_sections": [],
      "toc_visible": true
    },
    "kernelspec": {
      "display_name": "Python 3",
      "name": "python3"
    },
    "language_info": {
      "name": "python"
    },
    "widgets": {
      "application/vnd.jupyter.widget-state+json": {
        "0787574292304576974aeec8a1a010da": {
          "model_module": "@jupyter-widgets/controls",
          "model_name": "HBoxModel",
          "state": {
            "_view_name": "HBoxView",
            "_dom_classes": [],
            "_model_name": "HBoxModel",
            "_view_module": "@jupyter-widgets/controls",
            "_model_module_version": "1.5.0",
            "_view_count": null,
            "_view_module_version": "1.5.0",
            "box_style": "",
            "layout": "IPY_MODEL_c25d3607536b4f51b2728e9762eb173a",
            "_model_module": "@jupyter-widgets/controls",
            "children": [
              "IPY_MODEL_358a29f41a2a435e99a4e998f357a2da",
              "IPY_MODEL_84ed031d80854b029ca6e7ab16627f73"
            ]
          }
        },
        "c25d3607536b4f51b2728e9762eb173a": {
          "model_module": "@jupyter-widgets/base",
          "model_name": "LayoutModel",
          "state": {
            "_view_name": "LayoutView",
            "grid_template_rows": null,
            "right": null,
            "justify_content": null,
            "_view_module": "@jupyter-widgets/base",
            "overflow": null,
            "_model_module_version": "1.2.0",
            "_view_count": null,
            "flex_flow": null,
            "width": null,
            "min_width": null,
            "border": null,
            "align_items": null,
            "bottom": null,
            "_model_module": "@jupyter-widgets/base",
            "top": null,
            "grid_column": null,
            "overflow_y": null,
            "overflow_x": null,
            "grid_auto_flow": null,
            "grid_area": null,
            "grid_template_columns": null,
            "flex": null,
            "_model_name": "LayoutModel",
            "justify_items": null,
            "grid_row": null,
            "max_height": null,
            "align_content": null,
            "visibility": null,
            "align_self": null,
            "height": null,
            "min_height": null,
            "padding": null,
            "grid_auto_rows": null,
            "grid_gap": null,
            "max_width": null,
            "order": null,
            "_view_module_version": "1.2.0",
            "grid_template_areas": null,
            "object_position": null,
            "object_fit": null,
            "grid_auto_columns": null,
            "margin": null,
            "display": null,
            "left": null
          }
        },
        "358a29f41a2a435e99a4e998f357a2da": {
          "model_module": "@jupyter-widgets/controls",
          "model_name": "FloatProgressModel",
          "state": {
            "_view_name": "ProgressView",
            "style": "IPY_MODEL_9752385b0d42412c8469cc5feda6e5ef",
            "_dom_classes": [],
            "description": "",
            "_model_name": "FloatProgressModel",
            "bar_style": "success",
            "max": 9912422,
            "_view_module": "@jupyter-widgets/controls",
            "_model_module_version": "1.5.0",
            "value": 9912422,
            "_view_count": null,
            "_view_module_version": "1.5.0",
            "orientation": "horizontal",
            "min": 0,
            "description_tooltip": null,
            "_model_module": "@jupyter-widgets/controls",
            "layout": "IPY_MODEL_1b5297d39c1145479c9ec0eb1797a0b9"
          }
        },
        "84ed031d80854b029ca6e7ab16627f73": {
          "model_module": "@jupyter-widgets/controls",
          "model_name": "HTMLModel",
          "state": {
            "_view_name": "HTMLView",
            "style": "IPY_MODEL_45c3380c3c5e49bbbb9597d2c5d0e049",
            "_dom_classes": [],
            "description": "",
            "_model_name": "HTMLModel",
            "placeholder": "​",
            "_view_module": "@jupyter-widgets/controls",
            "_model_module_version": "1.5.0",
            "value": " 9913344/? [06:48&lt;00:00, 24256.93it/s]",
            "_view_count": null,
            "_view_module_version": "1.5.0",
            "description_tooltip": null,
            "_model_module": "@jupyter-widgets/controls",
            "layout": "IPY_MODEL_fd2cbb7c73db499f9db075db751f4577"
          }
        },
        "9752385b0d42412c8469cc5feda6e5ef": {
          "model_module": "@jupyter-widgets/controls",
          "model_name": "ProgressStyleModel",
          "state": {
            "_view_name": "StyleView",
            "_model_name": "ProgressStyleModel",
            "description_width": "initial",
            "_view_module": "@jupyter-widgets/base",
            "_model_module_version": "1.5.0",
            "_view_count": null,
            "_view_module_version": "1.2.0",
            "bar_color": null,
            "_model_module": "@jupyter-widgets/controls"
          }
        },
        "1b5297d39c1145479c9ec0eb1797a0b9": {
          "model_module": "@jupyter-widgets/base",
          "model_name": "LayoutModel",
          "state": {
            "_view_name": "LayoutView",
            "grid_template_rows": null,
            "right": null,
            "justify_content": null,
            "_view_module": "@jupyter-widgets/base",
            "overflow": null,
            "_model_module_version": "1.2.0",
            "_view_count": null,
            "flex_flow": null,
            "width": null,
            "min_width": null,
            "border": null,
            "align_items": null,
            "bottom": null,
            "_model_module": "@jupyter-widgets/base",
            "top": null,
            "grid_column": null,
            "overflow_y": null,
            "overflow_x": null,
            "grid_auto_flow": null,
            "grid_area": null,
            "grid_template_columns": null,
            "flex": null,
            "_model_name": "LayoutModel",
            "justify_items": null,
            "grid_row": null,
            "max_height": null,
            "align_content": null,
            "visibility": null,
            "align_self": null,
            "height": null,
            "min_height": null,
            "padding": null,
            "grid_auto_rows": null,
            "grid_gap": null,
            "max_width": null,
            "order": null,
            "_view_module_version": "1.2.0",
            "grid_template_areas": null,
            "object_position": null,
            "object_fit": null,
            "grid_auto_columns": null,
            "margin": null,
            "display": null,
            "left": null
          }
        },
        "45c3380c3c5e49bbbb9597d2c5d0e049": {
          "model_module": "@jupyter-widgets/controls",
          "model_name": "DescriptionStyleModel",
          "state": {
            "_view_name": "StyleView",
            "_model_name": "DescriptionStyleModel",
            "description_width": "",
            "_view_module": "@jupyter-widgets/base",
            "_model_module_version": "1.5.0",
            "_view_count": null,
            "_view_module_version": "1.2.0",
            "_model_module": "@jupyter-widgets/controls"
          }
        },
        "fd2cbb7c73db499f9db075db751f4577": {
          "model_module": "@jupyter-widgets/base",
          "model_name": "LayoutModel",
          "state": {
            "_view_name": "LayoutView",
            "grid_template_rows": null,
            "right": null,
            "justify_content": null,
            "_view_module": "@jupyter-widgets/base",
            "overflow": null,
            "_model_module_version": "1.2.0",
            "_view_count": null,
            "flex_flow": null,
            "width": null,
            "min_width": null,
            "border": null,
            "align_items": null,
            "bottom": null,
            "_model_module": "@jupyter-widgets/base",
            "top": null,
            "grid_column": null,
            "overflow_y": null,
            "overflow_x": null,
            "grid_auto_flow": null,
            "grid_area": null,
            "grid_template_columns": null,
            "flex": null,
            "_model_name": "LayoutModel",
            "justify_items": null,
            "grid_row": null,
            "max_height": null,
            "align_content": null,
            "visibility": null,
            "align_self": null,
            "height": null,
            "min_height": null,
            "padding": null,
            "grid_auto_rows": null,
            "grid_gap": null,
            "max_width": null,
            "order": null,
            "_view_module_version": "1.2.0",
            "grid_template_areas": null,
            "object_position": null,
            "object_fit": null,
            "grid_auto_columns": null,
            "margin": null,
            "display": null,
            "left": null
          }
        },
        "1608b911ac1f40a9a2a39a04e4b8061c": {
          "model_module": "@jupyter-widgets/controls",
          "model_name": "HBoxModel",
          "state": {
            "_view_name": "HBoxView",
            "_dom_classes": [],
            "_model_name": "HBoxModel",
            "_view_module": "@jupyter-widgets/controls",
            "_model_module_version": "1.5.0",
            "_view_count": null,
            "_view_module_version": "1.5.0",
            "box_style": "",
            "layout": "IPY_MODEL_1ab5dc6880484c15bd7b1941e3a87b3a",
            "_model_module": "@jupyter-widgets/controls",
            "children": [
              "IPY_MODEL_060241ed3aff4113b09e58d348909ffb",
              "IPY_MODEL_45a493fa35224d69854e93b963782da0"
            ]
          }
        },
        "1ab5dc6880484c15bd7b1941e3a87b3a": {
          "model_module": "@jupyter-widgets/base",
          "model_name": "LayoutModel",
          "state": {
            "_view_name": "LayoutView",
            "grid_template_rows": null,
            "right": null,
            "justify_content": null,
            "_view_module": "@jupyter-widgets/base",
            "overflow": null,
            "_model_module_version": "1.2.0",
            "_view_count": null,
            "flex_flow": null,
            "width": null,
            "min_width": null,
            "border": null,
            "align_items": null,
            "bottom": null,
            "_model_module": "@jupyter-widgets/base",
            "top": null,
            "grid_column": null,
            "overflow_y": null,
            "overflow_x": null,
            "grid_auto_flow": null,
            "grid_area": null,
            "grid_template_columns": null,
            "flex": null,
            "_model_name": "LayoutModel",
            "justify_items": null,
            "grid_row": null,
            "max_height": null,
            "align_content": null,
            "visibility": null,
            "align_self": null,
            "height": null,
            "min_height": null,
            "padding": null,
            "grid_auto_rows": null,
            "grid_gap": null,
            "max_width": null,
            "order": null,
            "_view_module_version": "1.2.0",
            "grid_template_areas": null,
            "object_position": null,
            "object_fit": null,
            "grid_auto_columns": null,
            "margin": null,
            "display": null,
            "left": null
          }
        },
        "060241ed3aff4113b09e58d348909ffb": {
          "model_module": "@jupyter-widgets/controls",
          "model_name": "FloatProgressModel",
          "state": {
            "_view_name": "ProgressView",
            "style": "IPY_MODEL_2eb043561de246feb32c9e80be05b9e5",
            "_dom_classes": [],
            "description": "",
            "_model_name": "FloatProgressModel",
            "bar_style": "success",
            "max": 28881,
            "_view_module": "@jupyter-widgets/controls",
            "_model_module_version": "1.5.0",
            "value": 28881,
            "_view_count": null,
            "_view_module_version": "1.5.0",
            "orientation": "horizontal",
            "min": 0,
            "description_tooltip": null,
            "_model_module": "@jupyter-widgets/controls",
            "layout": "IPY_MODEL_b1260f2a08904af49d0471c6beadd89c"
          }
        },
        "45a493fa35224d69854e93b963782da0": {
          "model_module": "@jupyter-widgets/controls",
          "model_name": "HTMLModel",
          "state": {
            "_view_name": "HTMLView",
            "style": "IPY_MODEL_5aa2a1b3a57540c6a10b86ebad7a5ed2",
            "_dom_classes": [],
            "description": "",
            "_model_name": "HTMLModel",
            "placeholder": "​",
            "_view_module": "@jupyter-widgets/controls",
            "_model_module_version": "1.5.0",
            "value": " 29696/? [02:16&lt;00:00, 217.01it/s]",
            "_view_count": null,
            "_view_module_version": "1.5.0",
            "description_tooltip": null,
            "_model_module": "@jupyter-widgets/controls",
            "layout": "IPY_MODEL_d67bb6bfaad547ea984085a981d52f5f"
          }
        },
        "2eb043561de246feb32c9e80be05b9e5": {
          "model_module": "@jupyter-widgets/controls",
          "model_name": "ProgressStyleModel",
          "state": {
            "_view_name": "StyleView",
            "_model_name": "ProgressStyleModel",
            "description_width": "initial",
            "_view_module": "@jupyter-widgets/base",
            "_model_module_version": "1.5.0",
            "_view_count": null,
            "_view_module_version": "1.2.0",
            "bar_color": null,
            "_model_module": "@jupyter-widgets/controls"
          }
        },
        "b1260f2a08904af49d0471c6beadd89c": {
          "model_module": "@jupyter-widgets/base",
          "model_name": "LayoutModel",
          "state": {
            "_view_name": "LayoutView",
            "grid_template_rows": null,
            "right": null,
            "justify_content": null,
            "_view_module": "@jupyter-widgets/base",
            "overflow": null,
            "_model_module_version": "1.2.0",
            "_view_count": null,
            "flex_flow": null,
            "width": null,
            "min_width": null,
            "border": null,
            "align_items": null,
            "bottom": null,
            "_model_module": "@jupyter-widgets/base",
            "top": null,
            "grid_column": null,
            "overflow_y": null,
            "overflow_x": null,
            "grid_auto_flow": null,
            "grid_area": null,
            "grid_template_columns": null,
            "flex": null,
            "_model_name": "LayoutModel",
            "justify_items": null,
            "grid_row": null,
            "max_height": null,
            "align_content": null,
            "visibility": null,
            "align_self": null,
            "height": null,
            "min_height": null,
            "padding": null,
            "grid_auto_rows": null,
            "grid_gap": null,
            "max_width": null,
            "order": null,
            "_view_module_version": "1.2.0",
            "grid_template_areas": null,
            "object_position": null,
            "object_fit": null,
            "grid_auto_columns": null,
            "margin": null,
            "display": null,
            "left": null
          }
        },
        "5aa2a1b3a57540c6a10b86ebad7a5ed2": {
          "model_module": "@jupyter-widgets/controls",
          "model_name": "DescriptionStyleModel",
          "state": {
            "_view_name": "StyleView",
            "_model_name": "DescriptionStyleModel",
            "description_width": "",
            "_view_module": "@jupyter-widgets/base",
            "_model_module_version": "1.5.0",
            "_view_count": null,
            "_view_module_version": "1.2.0",
            "_model_module": "@jupyter-widgets/controls"
          }
        },
        "d67bb6bfaad547ea984085a981d52f5f": {
          "model_module": "@jupyter-widgets/base",
          "model_name": "LayoutModel",
          "state": {
            "_view_name": "LayoutView",
            "grid_template_rows": null,
            "right": null,
            "justify_content": null,
            "_view_module": "@jupyter-widgets/base",
            "overflow": null,
            "_model_module_version": "1.2.0",
            "_view_count": null,
            "flex_flow": null,
            "width": null,
            "min_width": null,
            "border": null,
            "align_items": null,
            "bottom": null,
            "_model_module": "@jupyter-widgets/base",
            "top": null,
            "grid_column": null,
            "overflow_y": null,
            "overflow_x": null,
            "grid_auto_flow": null,
            "grid_area": null,
            "grid_template_columns": null,
            "flex": null,
            "_model_name": "LayoutModel",
            "justify_items": null,
            "grid_row": null,
            "max_height": null,
            "align_content": null,
            "visibility": null,
            "align_self": null,
            "height": null,
            "min_height": null,
            "padding": null,
            "grid_auto_rows": null,
            "grid_gap": null,
            "max_width": null,
            "order": null,
            "_view_module_version": "1.2.0",
            "grid_template_areas": null,
            "object_position": null,
            "object_fit": null,
            "grid_auto_columns": null,
            "margin": null,
            "display": null,
            "left": null
          }
        },
        "feccf533ce4b4db18c641ff67f1e59bf": {
          "model_module": "@jupyter-widgets/controls",
          "model_name": "HBoxModel",
          "state": {
            "_view_name": "HBoxView",
            "_dom_classes": [],
            "_model_name": "HBoxModel",
            "_view_module": "@jupyter-widgets/controls",
            "_model_module_version": "1.5.0",
            "_view_count": null,
            "_view_module_version": "1.5.0",
            "box_style": "",
            "layout": "IPY_MODEL_6cecd3d044754c97aad21b448a89f798",
            "_model_module": "@jupyter-widgets/controls",
            "children": [
              "IPY_MODEL_c6b90f5494704c06bf191164ca52ba9b",
              "IPY_MODEL_7083b8090e624bd08835418267e15d90"
            ]
          }
        },
        "6cecd3d044754c97aad21b448a89f798": {
          "model_module": "@jupyter-widgets/base",
          "model_name": "LayoutModel",
          "state": {
            "_view_name": "LayoutView",
            "grid_template_rows": null,
            "right": null,
            "justify_content": null,
            "_view_module": "@jupyter-widgets/base",
            "overflow": null,
            "_model_module_version": "1.2.0",
            "_view_count": null,
            "flex_flow": null,
            "width": null,
            "min_width": null,
            "border": null,
            "align_items": null,
            "bottom": null,
            "_model_module": "@jupyter-widgets/base",
            "top": null,
            "grid_column": null,
            "overflow_y": null,
            "overflow_x": null,
            "grid_auto_flow": null,
            "grid_area": null,
            "grid_template_columns": null,
            "flex": null,
            "_model_name": "LayoutModel",
            "justify_items": null,
            "grid_row": null,
            "max_height": null,
            "align_content": null,
            "visibility": null,
            "align_self": null,
            "height": null,
            "min_height": null,
            "padding": null,
            "grid_auto_rows": null,
            "grid_gap": null,
            "max_width": null,
            "order": null,
            "_view_module_version": "1.2.0",
            "grid_template_areas": null,
            "object_position": null,
            "object_fit": null,
            "grid_auto_columns": null,
            "margin": null,
            "display": null,
            "left": null
          }
        },
        "c6b90f5494704c06bf191164ca52ba9b": {
          "model_module": "@jupyter-widgets/controls",
          "model_name": "FloatProgressModel",
          "state": {
            "_view_name": "ProgressView",
            "style": "IPY_MODEL_0c91ef3ae93c442c9d17f3fb04488e13",
            "_dom_classes": [],
            "description": "",
            "_model_name": "FloatProgressModel",
            "bar_style": "success",
            "max": 1648877,
            "_view_module": "@jupyter-widgets/controls",
            "_model_module_version": "1.5.0",
            "value": 1648877,
            "_view_count": null,
            "_view_module_version": "1.5.0",
            "orientation": "horizontal",
            "min": 0,
            "description_tooltip": null,
            "_model_module": "@jupyter-widgets/controls",
            "layout": "IPY_MODEL_1138bac663cb4955bc723960b83989a0"
          }
        },
        "7083b8090e624bd08835418267e15d90": {
          "model_module": "@jupyter-widgets/controls",
          "model_name": "HTMLModel",
          "state": {
            "_view_name": "HTMLView",
            "style": "IPY_MODEL_e7d02d30803d42b882c47f128c072cba",
            "_dom_classes": [],
            "description": "",
            "_model_name": "HTMLModel",
            "placeholder": "​",
            "_view_module": "@jupyter-widgets/controls",
            "_model_module_version": "1.5.0",
            "value": " 1649664/? [00:01&lt;00:00, 1325604.90it/s]",
            "_view_count": null,
            "_view_module_version": "1.5.0",
            "description_tooltip": null,
            "_model_module": "@jupyter-widgets/controls",
            "layout": "IPY_MODEL_d929543be4b44d53b2c8dae8288e7b1c"
          }
        },
        "0c91ef3ae93c442c9d17f3fb04488e13": {
          "model_module": "@jupyter-widgets/controls",
          "model_name": "ProgressStyleModel",
          "state": {
            "_view_name": "StyleView",
            "_model_name": "ProgressStyleModel",
            "description_width": "initial",
            "_view_module": "@jupyter-widgets/base",
            "_model_module_version": "1.5.0",
            "_view_count": null,
            "_view_module_version": "1.2.0",
            "bar_color": null,
            "_model_module": "@jupyter-widgets/controls"
          }
        },
        "1138bac663cb4955bc723960b83989a0": {
          "model_module": "@jupyter-widgets/base",
          "model_name": "LayoutModel",
          "state": {
            "_view_name": "LayoutView",
            "grid_template_rows": null,
            "right": null,
            "justify_content": null,
            "_view_module": "@jupyter-widgets/base",
            "overflow": null,
            "_model_module_version": "1.2.0",
            "_view_count": null,
            "flex_flow": null,
            "width": null,
            "min_width": null,
            "border": null,
            "align_items": null,
            "bottom": null,
            "_model_module": "@jupyter-widgets/base",
            "top": null,
            "grid_column": null,
            "overflow_y": null,
            "overflow_x": null,
            "grid_auto_flow": null,
            "grid_area": null,
            "grid_template_columns": null,
            "flex": null,
            "_model_name": "LayoutModel",
            "justify_items": null,
            "grid_row": null,
            "max_height": null,
            "align_content": null,
            "visibility": null,
            "align_self": null,
            "height": null,
            "min_height": null,
            "padding": null,
            "grid_auto_rows": null,
            "grid_gap": null,
            "max_width": null,
            "order": null,
            "_view_module_version": "1.2.0",
            "grid_template_areas": null,
            "object_position": null,
            "object_fit": null,
            "grid_auto_columns": null,
            "margin": null,
            "display": null,
            "left": null
          }
        },
        "e7d02d30803d42b882c47f128c072cba": {
          "model_module": "@jupyter-widgets/controls",
          "model_name": "DescriptionStyleModel",
          "state": {
            "_view_name": "StyleView",
            "_model_name": "DescriptionStyleModel",
            "description_width": "",
            "_view_module": "@jupyter-widgets/base",
            "_model_module_version": "1.5.0",
            "_view_count": null,
            "_view_module_version": "1.2.0",
            "_model_module": "@jupyter-widgets/controls"
          }
        },
        "d929543be4b44d53b2c8dae8288e7b1c": {
          "model_module": "@jupyter-widgets/base",
          "model_name": "LayoutModel",
          "state": {
            "_view_name": "LayoutView",
            "grid_template_rows": null,
            "right": null,
            "justify_content": null,
            "_view_module": "@jupyter-widgets/base",
            "overflow": null,
            "_model_module_version": "1.2.0",
            "_view_count": null,
            "flex_flow": null,
            "width": null,
            "min_width": null,
            "border": null,
            "align_items": null,
            "bottom": null,
            "_model_module": "@jupyter-widgets/base",
            "top": null,
            "grid_column": null,
            "overflow_y": null,
            "overflow_x": null,
            "grid_auto_flow": null,
            "grid_area": null,
            "grid_template_columns": null,
            "flex": null,
            "_model_name": "LayoutModel",
            "justify_items": null,
            "grid_row": null,
            "max_height": null,
            "align_content": null,
            "visibility": null,
            "align_self": null,
            "height": null,
            "min_height": null,
            "padding": null,
            "grid_auto_rows": null,
            "grid_gap": null,
            "max_width": null,
            "order": null,
            "_view_module_version": "1.2.0",
            "grid_template_areas": null,
            "object_position": null,
            "object_fit": null,
            "grid_auto_columns": null,
            "margin": null,
            "display": null,
            "left": null
          }
        },
        "4f9dd6e8a2f447ef81d3c8ef410522fd": {
          "model_module": "@jupyter-widgets/controls",
          "model_name": "HBoxModel",
          "state": {
            "_view_name": "HBoxView",
            "_dom_classes": [],
            "_model_name": "HBoxModel",
            "_view_module": "@jupyter-widgets/controls",
            "_model_module_version": "1.5.0",
            "_view_count": null,
            "_view_module_version": "1.5.0",
            "box_style": "",
            "layout": "IPY_MODEL_fbfd05494a1749c99b78e364f3a15f83",
            "_model_module": "@jupyter-widgets/controls",
            "children": [
              "IPY_MODEL_efc1b8c095b44230865f308446c78194",
              "IPY_MODEL_66f401c563b445229f9dd091c7ee70ed"
            ]
          }
        },
        "fbfd05494a1749c99b78e364f3a15f83": {
          "model_module": "@jupyter-widgets/base",
          "model_name": "LayoutModel",
          "state": {
            "_view_name": "LayoutView",
            "grid_template_rows": null,
            "right": null,
            "justify_content": null,
            "_view_module": "@jupyter-widgets/base",
            "overflow": null,
            "_model_module_version": "1.2.0",
            "_view_count": null,
            "flex_flow": null,
            "width": null,
            "min_width": null,
            "border": null,
            "align_items": null,
            "bottom": null,
            "_model_module": "@jupyter-widgets/base",
            "top": null,
            "grid_column": null,
            "overflow_y": null,
            "overflow_x": null,
            "grid_auto_flow": null,
            "grid_area": null,
            "grid_template_columns": null,
            "flex": null,
            "_model_name": "LayoutModel",
            "justify_items": null,
            "grid_row": null,
            "max_height": null,
            "align_content": null,
            "visibility": null,
            "align_self": null,
            "height": null,
            "min_height": null,
            "padding": null,
            "grid_auto_rows": null,
            "grid_gap": null,
            "max_width": null,
            "order": null,
            "_view_module_version": "1.2.0",
            "grid_template_areas": null,
            "object_position": null,
            "object_fit": null,
            "grid_auto_columns": null,
            "margin": null,
            "display": null,
            "left": null
          }
        },
        "efc1b8c095b44230865f308446c78194": {
          "model_module": "@jupyter-widgets/controls",
          "model_name": "FloatProgressModel",
          "state": {
            "_view_name": "ProgressView",
            "style": "IPY_MODEL_4183777330f5427bb1a696afb9a8559b",
            "_dom_classes": [],
            "description": "",
            "_model_name": "FloatProgressModel",
            "bar_style": "success",
            "max": 4542,
            "_view_module": "@jupyter-widgets/controls",
            "_model_module_version": "1.5.0",
            "value": 4542,
            "_view_count": null,
            "_view_module_version": "1.5.0",
            "orientation": "horizontal",
            "min": 0,
            "description_tooltip": null,
            "_model_module": "@jupyter-widgets/controls",
            "layout": "IPY_MODEL_baf558eae30b4c1a9db7d11afb7ac63d"
          }
        },
        "66f401c563b445229f9dd091c7ee70ed": {
          "model_module": "@jupyter-widgets/controls",
          "model_name": "HTMLModel",
          "state": {
            "_view_name": "HTMLView",
            "style": "IPY_MODEL_8eb6ecbbbef542589e21f63bd95cef12",
            "_dom_classes": [],
            "description": "",
            "_model_name": "HTMLModel",
            "placeholder": "​",
            "_view_module": "@jupyter-widgets/controls",
            "_model_module_version": "1.5.0",
            "value": " 5120/? [00:00&lt;00:00, 15676.57it/s]",
            "_view_count": null,
            "_view_module_version": "1.5.0",
            "description_tooltip": null,
            "_model_module": "@jupyter-widgets/controls",
            "layout": "IPY_MODEL_72e34373f626400a96ba8324532e891e"
          }
        },
        "4183777330f5427bb1a696afb9a8559b": {
          "model_module": "@jupyter-widgets/controls",
          "model_name": "ProgressStyleModel",
          "state": {
            "_view_name": "StyleView",
            "_model_name": "ProgressStyleModel",
            "description_width": "initial",
            "_view_module": "@jupyter-widgets/base",
            "_model_module_version": "1.5.0",
            "_view_count": null,
            "_view_module_version": "1.2.0",
            "bar_color": null,
            "_model_module": "@jupyter-widgets/controls"
          }
        },
        "baf558eae30b4c1a9db7d11afb7ac63d": {
          "model_module": "@jupyter-widgets/base",
          "model_name": "LayoutModel",
          "state": {
            "_view_name": "LayoutView",
            "grid_template_rows": null,
            "right": null,
            "justify_content": null,
            "_view_module": "@jupyter-widgets/base",
            "overflow": null,
            "_model_module_version": "1.2.0",
            "_view_count": null,
            "flex_flow": null,
            "width": null,
            "min_width": null,
            "border": null,
            "align_items": null,
            "bottom": null,
            "_model_module": "@jupyter-widgets/base",
            "top": null,
            "grid_column": null,
            "overflow_y": null,
            "overflow_x": null,
            "grid_auto_flow": null,
            "grid_area": null,
            "grid_template_columns": null,
            "flex": null,
            "_model_name": "LayoutModel",
            "justify_items": null,
            "grid_row": null,
            "max_height": null,
            "align_content": null,
            "visibility": null,
            "align_self": null,
            "height": null,
            "min_height": null,
            "padding": null,
            "grid_auto_rows": null,
            "grid_gap": null,
            "max_width": null,
            "order": null,
            "_view_module_version": "1.2.0",
            "grid_template_areas": null,
            "object_position": null,
            "object_fit": null,
            "grid_auto_columns": null,
            "margin": null,
            "display": null,
            "left": null
          }
        },
        "8eb6ecbbbef542589e21f63bd95cef12": {
          "model_module": "@jupyter-widgets/controls",
          "model_name": "DescriptionStyleModel",
          "state": {
            "_view_name": "StyleView",
            "_model_name": "DescriptionStyleModel",
            "description_width": "",
            "_view_module": "@jupyter-widgets/base",
            "_model_module_version": "1.5.0",
            "_view_count": null,
            "_view_module_version": "1.2.0",
            "_model_module": "@jupyter-widgets/controls"
          }
        },
        "72e34373f626400a96ba8324532e891e": {
          "model_module": "@jupyter-widgets/base",
          "model_name": "LayoutModel",
          "state": {
            "_view_name": "LayoutView",
            "grid_template_rows": null,
            "right": null,
            "justify_content": null,
            "_view_module": "@jupyter-widgets/base",
            "overflow": null,
            "_model_module_version": "1.2.0",
            "_view_count": null,
            "flex_flow": null,
            "width": null,
            "min_width": null,
            "border": null,
            "align_items": null,
            "bottom": null,
            "_model_module": "@jupyter-widgets/base",
            "top": null,
            "grid_column": null,
            "overflow_y": null,
            "overflow_x": null,
            "grid_auto_flow": null,
            "grid_area": null,
            "grid_template_columns": null,
            "flex": null,
            "_model_name": "LayoutModel",
            "justify_items": null,
            "grid_row": null,
            "max_height": null,
            "align_content": null,
            "visibility": null,
            "align_self": null,
            "height": null,
            "min_height": null,
            "padding": null,
            "grid_auto_rows": null,
            "grid_gap": null,
            "max_width": null,
            "order": null,
            "_view_module_version": "1.2.0",
            "grid_template_areas": null,
            "object_position": null,
            "object_fit": null,
            "grid_auto_columns": null,
            "margin": null,
            "display": null,
            "left": null
          }
        }
      }
    }
  },
  "cells": [
    {
      "cell_type": "markdown",
      "metadata": {
        "id": "zna-7O8yj0Fb"
      },
      "source": [
        "# Problem Statement\n",
        "\n",
        "Create a Neural Network that takes two inputs and produces two outputs as described below :\n",
        "\n",
        "## Inputs :\n",
        "1. Image from MNIST\n",
        "2. Random Integer between 0-9\n",
        "\n",
        "## Outputs :\n",
        "\n",
        "1. MNIST label for the image\n",
        "2. Addition of MNIST Digit & Random Number\n",
        "\n",
        "![picture](https://drive.google.com/file/d/1vJDmSNH6pGrgBsYk19WAQVaBE_C9F0iI/view?usp=sharing)"
      ]
    },
    {
      "cell_type": "code",
      "metadata": {
        "id": "AVbY9RiFvf9T"
      },
      "source": [
        "# Standard Library Imports\n",
        "\n",
        "import torch\n",
        "import torchvision\n",
        "import warnings\n",
        "import torch.nn as nn\n",
        "import torch.nn.functional as F\n",
        "from torch import optim\n",
        "import torchvision.transforms as transforms\n",
        "from torch.utils.data.dataset import random_split\n",
        "import matplotlib.pyplot as plt\n",
        "from numpy.random import randint\n",
        "\n",
        "\n",
        "warnings.filterwarnings('ignore')\n"
      ],
      "execution_count": 1,
      "outputs": []
    },
    {
      "cell_type": "markdown",
      "metadata": {
        "id": "5khE2WrmlEAh"
      },
      "source": [
        "## Dataset Loader"
      ]
    },
    {
      "cell_type": "code",
      "metadata": {
        "colab": {
          "base_uri": "https://localhost:8080/",
          "height": 728,
          "referenced_widgets": [
            "0787574292304576974aeec8a1a010da",
            "c25d3607536b4f51b2728e9762eb173a",
            "358a29f41a2a435e99a4e998f357a2da",
            "84ed031d80854b029ca6e7ab16627f73",
            "9752385b0d42412c8469cc5feda6e5ef",
            "1b5297d39c1145479c9ec0eb1797a0b9",
            "45c3380c3c5e49bbbb9597d2c5d0e049",
            "fd2cbb7c73db499f9db075db751f4577",
            "1608b911ac1f40a9a2a39a04e4b8061c",
            "1ab5dc6880484c15bd7b1941e3a87b3a",
            "060241ed3aff4113b09e58d348909ffb",
            "45a493fa35224d69854e93b963782da0",
            "2eb043561de246feb32c9e80be05b9e5",
            "b1260f2a08904af49d0471c6beadd89c",
            "5aa2a1b3a57540c6a10b86ebad7a5ed2",
            "d67bb6bfaad547ea984085a981d52f5f",
            "feccf533ce4b4db18c641ff67f1e59bf",
            "6cecd3d044754c97aad21b448a89f798",
            "c6b90f5494704c06bf191164ca52ba9b",
            "7083b8090e624bd08835418267e15d90",
            "0c91ef3ae93c442c9d17f3fb04488e13",
            "1138bac663cb4955bc723960b83989a0",
            "e7d02d30803d42b882c47f128c072cba",
            "d929543be4b44d53b2c8dae8288e7b1c",
            "4f9dd6e8a2f447ef81d3c8ef410522fd",
            "fbfd05494a1749c99b78e364f3a15f83",
            "efc1b8c095b44230865f308446c78194",
            "66f401c563b445229f9dd091c7ee70ed",
            "4183777330f5427bb1a696afb9a8559b",
            "baf558eae30b4c1a9db7d11afb7ac63d",
            "8eb6ecbbbef542589e21f63bd95cef12",
            "72e34373f626400a96ba8324532e891e"
          ]
        },
        "id": "iNa-5Y4xtnI1",
        "outputId": "3fe1db58-e636-4343-d959-6c26914f6222"
      },
      "source": [
        "# Download MNIST Training\n",
        "dataset = torchvision.datasets.MNIST(root= './data',\n",
        "                                       train= True,\n",
        "                                       download= True,\n",
        "                                       transform= transforms.Compose([\n",
        "                                                                      transforms.ToTensor()\n",
        "                                       ]))\n",
        "# Download MNIST TEST\n",
        "test_set = torchvision.datasets.MNIST(root='./data',\n",
        "                                      train=False,\n",
        "                                      download=True,\n",
        "                                      transform=transforms.Compose([\n",
        "                                                                    transforms.ToTensor()\n",
        "                                      ]))\n",
        "\n",
        "# Split to 80-20 for train-valid\n",
        "lengths = [int(len(dataset)*0.8), int(len(dataset)*0.2)]\n",
        "train_set, val_set = random_split(dataset, lengths)\n",
        "\n",
        "# Hyper-parameter Initialisation\n",
        "batch_size=128\n",
        "\n",
        "# Load MNIST Train Data Loader\n",
        "train_loader = torch.utils.data.DataLoader(train_set,\n",
        "                                            batch_size= batch_size,\n",
        "                                            shuffle= True,\n",
        "                                            drop_last=True,\n",
        "                                          pin_memory=True)\n",
        "\n",
        "# Load MNIST Validation Data Loader\n",
        "val_loader = torch.utils.data.DataLoader(val_set,\n",
        "                                            batch_size= batch_size,\n",
        "                                            shuffle= True,\n",
        "                                            drop_last=True,\n",
        "                                            pin_memory=True)\n",
        "\n",
        "# Load MNIST Test Data Loader\n",
        "test_loader = torch.utils.data.DataLoader(test_set,\n",
        "                                          batch_size=batch_size,\n",
        "                                          shuffle=True,\n",
        "                                          pin_memory=True,\n",
        "                                          drop_last=True)"
      ],
      "execution_count": 2,
      "outputs": [
        {
          "output_type": "stream",
          "text": [
            "Downloading http://yann.lecun.com/exdb/mnist/train-images-idx3-ubyte.gz\n",
            "Downloading http://yann.lecun.com/exdb/mnist/train-images-idx3-ubyte.gz to ./data/MNIST/raw/train-images-idx3-ubyte.gz\n"
          ],
          "name": "stdout"
        },
        {
          "output_type": "display_data",
          "data": {
            "application/vnd.jupyter.widget-view+json": {
              "model_id": "0787574292304576974aeec8a1a010da",
              "version_minor": 0,
              "version_major": 2
            },
            "text/plain": [
              "HBox(children=(FloatProgress(value=0.0, max=9912422.0), HTML(value='')))"
            ]
          },
          "metadata": {
            "tags": []
          }
        },
        {
          "output_type": "stream",
          "text": [
            "\n",
            "Extracting ./data/MNIST/raw/train-images-idx3-ubyte.gz to ./data/MNIST/raw\n",
            "\n",
            "Downloading http://yann.lecun.com/exdb/mnist/train-labels-idx1-ubyte.gz\n",
            "Failed to download (trying next):\n",
            "HTTP Error 503: Service Unavailable\n",
            "\n",
            "Downloading https://ossci-datasets.s3.amazonaws.com/mnist/train-labels-idx1-ubyte.gz\n",
            "Downloading https://ossci-datasets.s3.amazonaws.com/mnist/train-labels-idx1-ubyte.gz to ./data/MNIST/raw/train-labels-idx1-ubyte.gz\n"
          ],
          "name": "stdout"
        },
        {
          "output_type": "display_data",
          "data": {
            "application/vnd.jupyter.widget-view+json": {
              "model_id": "1608b911ac1f40a9a2a39a04e4b8061c",
              "version_minor": 0,
              "version_major": 2
            },
            "text/plain": [
              "HBox(children=(FloatProgress(value=0.0, max=28881.0), HTML(value='')))"
            ]
          },
          "metadata": {
            "tags": []
          }
        },
        {
          "output_type": "stream",
          "text": [
            "\n",
            "Extracting ./data/MNIST/raw/train-labels-idx1-ubyte.gz to ./data/MNIST/raw\n",
            "\n",
            "Downloading http://yann.lecun.com/exdb/mnist/t10k-images-idx3-ubyte.gz\n",
            "Downloading http://yann.lecun.com/exdb/mnist/t10k-images-idx3-ubyte.gz to ./data/MNIST/raw/t10k-images-idx3-ubyte.gz\n",
            "Failed to download (trying next):\n",
            "HTTP Error 503: Service Unavailable\n",
            "\n",
            "Downloading https://ossci-datasets.s3.amazonaws.com/mnist/t10k-images-idx3-ubyte.gz\n",
            "Downloading https://ossci-datasets.s3.amazonaws.com/mnist/t10k-images-idx3-ubyte.gz to ./data/MNIST/raw/t10k-images-idx3-ubyte.gz\n"
          ],
          "name": "stdout"
        },
        {
          "output_type": "display_data",
          "data": {
            "application/vnd.jupyter.widget-view+json": {
              "model_id": "feccf533ce4b4db18c641ff67f1e59bf",
              "version_minor": 0,
              "version_major": 2
            },
            "text/plain": [
              "HBox(children=(FloatProgress(value=0.0, max=1648877.0), HTML(value='')))"
            ]
          },
          "metadata": {
            "tags": []
          }
        },
        {
          "output_type": "stream",
          "text": [
            "\n",
            "Extracting ./data/MNIST/raw/t10k-images-idx3-ubyte.gz to ./data/MNIST/raw\n",
            "\n",
            "Downloading http://yann.lecun.com/exdb/mnist/t10k-labels-idx1-ubyte.gz\n",
            "Downloading http://yann.lecun.com/exdb/mnist/t10k-labels-idx1-ubyte.gz to ./data/MNIST/raw/t10k-labels-idx1-ubyte.gz\n"
          ],
          "name": "stdout"
        },
        {
          "output_type": "display_data",
          "data": {
            "application/vnd.jupyter.widget-view+json": {
              "model_id": "4f9dd6e8a2f447ef81d3c8ef410522fd",
              "version_minor": 0,
              "version_major": 2
            },
            "text/plain": [
              "HBox(children=(FloatProgress(value=0.0, max=4542.0), HTML(value='')))"
            ]
          },
          "metadata": {
            "tags": []
          }
        },
        {
          "output_type": "stream",
          "text": [
            "\n",
            "Extracting ./data/MNIST/raw/t10k-labels-idx1-ubyte.gz to ./data/MNIST/raw\n",
            "\n",
            "Processing...\n",
            "Done!\n"
          ],
          "name": "stdout"
        }
      ]
    },
    {
      "cell_type": "code",
      "metadata": {
        "colab": {
          "base_uri": "https://localhost:8080/"
        },
        "id": "6tXnpWopttHV",
        "outputId": "58240052-09a1-4bf1-d6f2-152843cd5970"
      },
      "source": [
        "# Check Data for Each Class\n",
        "\n",
        "print(\"Class & Data For Training Set : \")\n",
        "print(dataset.targets.unique())\n",
        "print(dataset.targets.bincount())\n",
        "print()\n",
        "\n",
        "print(\"Class & Data For Test Set : \")\n",
        "print(test_set.targets.unique())\n",
        "print(test_set.targets.bincount())\n"
      ],
      "execution_count": 3,
      "outputs": [
        {
          "output_type": "stream",
          "text": [
            "Class & Data For Training Set : \n",
            "tensor([0, 1, 2, 3, 4, 5, 6, 7, 8, 9])\n",
            "tensor([5923, 6742, 5958, 6131, 5842, 5421, 5918, 6265, 5851, 5949])\n",
            "\n",
            "Class & Data For Test Set : \n",
            "tensor([0, 1, 2, 3, 4, 5, 6, 7, 8, 9])\n",
            "tensor([ 980, 1135, 1032, 1010,  982,  892,  958, 1028,  974, 1009])\n"
          ],
          "name": "stdout"
        }
      ]
    },
    {
      "cell_type": "markdown",
      "metadata": {
        "id": "ZhUwxlo0l_FG"
      },
      "source": [
        "## Model Architecture"
      ]
    },
    {
      "cell_type": "code",
      "metadata": {
        "id": "doFQM9BQtxXW"
      },
      "source": [
        "\n",
        "# Defining the Model Architecture\n",
        "\n",
        "class Network(nn.Module):\n",
        "  def __init__(self):\n",
        "    super().__init__()\n",
        "    self.conv1 = nn.Conv2d(in_channels=1,out_channels=16,kernel_size=3)\n",
        "    self.conv2 = nn.Conv2d(in_channels=16,out_channels=32,kernel_size=3)\n",
        "    self.conv3 = nn.Conv2d(in_channels=32,out_channels=64,kernel_size=3)\n",
        "    self.conv4 = nn.Conv2d(in_channels=64,out_channels=64,kernel_size=3)\n",
        "    self.conv5 = nn.Conv2d(in_channels=64,out_channels=64,kernel_size=3)\n",
        "    \n",
        "    self.pool1 = nn.MaxPool2d(kernel_size=2,stride=2)\n",
        "\n",
        "    self.fcl1 = nn.Linear(in_features=64*7*7,out_features=128)\n",
        "    self.emb1 = nn.Linear(in_features=128,out_features=64)\n",
        "    self.out1 = nn.Linear(in_features=64, out_features=10) # Output of the MNIST Image\n",
        "\n",
        "    self.fcr1 = nn.Linear(in_features=74,out_features=128)\n",
        "    self.emb2 = nn.Linear(in_features=128, out_features=256)\n",
        "    self.out2 = nn.Linear(in_features=256, out_features=19) # Output of the Random Addition\n",
        "\n",
        "  def forward(self,x1, x2):\n",
        "    x1 = F.relu(self.conv2(F.relu(self.conv1(x1))))\n",
        "    x1 = self.pool1(F.relu(self.conv3(x1)))\n",
        "    x1 = F.relu(self.conv5(F.relu(self.conv4(x1))))\n",
        "    x1 = x1.reshape(-1, 64*7*7)\n",
        "    x1 = F.relu(self.fcl1(x1))\n",
        "    x1 = F.relu(self.emb1(x1)) # Penulitmate Layer patterns/weights/embeddings\n",
        "    out1 = self.out1(x1) # MNIST Prediction\n",
        "\n",
        "    # Mix embeddings from the mnist convolutions\n",
        "    combined = torch.cat([x1,x2], dim=1)  # Concatenating the Radom Input along Dim 1\n",
        "\n",
        "    x2 = F.relu(self.fcr1(combined)) # FC layers for learning addition\n",
        "    x2 = F.relu(self.emb2(x2))\n",
        "    out2 = self.out2(x2)\n",
        "   \n",
        "    final_out = torch.cat([out1, out2], dim=1)\n",
        "\n",
        "    return final_out"
      ],
      "execution_count": 4,
      "outputs": []
    },
    {
      "cell_type": "markdown",
      "metadata": {
        "id": "-2cB5h5BoDWZ"
      },
      "source": [
        "### Prediction of Final Layers"
      ]
    },
    {
      "cell_type": "code",
      "metadata": {
        "id": "VSP-fNrPt2vS"
      },
      "source": [
        "## prediction class\n",
        "def class_predicted(preds, num_labels, sum_labels):\n",
        "    num_preds = preds[:, :10]\n",
        "    sum_preds = preds[:, 10:]   \n",
        "    \n",
        "    correct = torch.logical_and(num_preds.argmax(dim=1).eq(num_labels), sum_preds.argmax(dim=1).eq(sum_labels)).sum().item()\n",
        "    \n",
        "    return correct"
      ],
      "execution_count": 5,
      "outputs": []
    },
    {
      "cell_type": "markdown",
      "metadata": {
        "id": "1hVzXtJgmVpi"
      },
      "source": [
        "### Loss Function"
      ]
    },
    {
      "cell_type": "code",
      "metadata": {
        "id": "C4j_Vw7-matV"
      },
      "source": [
        "def custom_loss(preds, img_labels, sum_labels):\n",
        "    num = preds[:, :10]\n",
        "    sum = preds[:, 10:]\n",
        "\n",
        "    num = F.log_softmax(num, dim=1)\n",
        "    sum = F.log_softmax(sum, dim=1)\n",
        "    \n",
        "    num_loss = torch.nn.NLLLoss()(num, img_labels)\n",
        "    sum_loss = torch.nn.NLLLoss()(sum, sum_labels)\n",
        "\n",
        "    loss = num_loss + sum_loss\n",
        "\n",
        "    return loss"
      ],
      "execution_count": 6,
      "outputs": []
    },
    {
      "cell_type": "markdown",
      "metadata": {
        "id": "OQBjsf2Cmczv"
      },
      "source": [
        "### Training Loop"
      ]
    },
    {
      "cell_type": "code",
      "metadata": {
        "id": "thRe4PUlt29k"
      },
      "source": [
        "def train_and_eval(model, train_loader, val_loader, optimizer, criterion, num_epoch, device):\n",
        "  train_losses = []\n",
        "  val_losses = []\n",
        "  for epoch in range(num_epoch):\n",
        "    for split in [\"train\", \"val\"]:\n",
        "        if split == \"train\":\n",
        "            train_loss= 0\n",
        "            train_correct= 0\n",
        "            model.train()\n",
        "            for images, labels in train_loader:\n",
        "                optimizer.zero_grad()\n",
        "\n",
        "                # MNIST Input & Label\n",
        "                images = images.to(device)\n",
        "                labels = labels.to(device)\n",
        "                #   one_hot_labels = F.one_hot(labels, num_classes=10)\n",
        "\n",
        "                # Create Random Number Input & Label \n",
        "                random_num = torch.randint(low=0, high=9, size=(batch_size,))\n",
        "                random_num = random_num.to(device)\n",
        "                random_inp = F.one_hot(random_num, num_classes=10)\n",
        "                random_inp = random_inp.type(torch.float32)\n",
        "                sum_labels = labels + random_num  \n",
        "                #   one_hot_random = F.one_hot(random_labels, num_classes=18)\n",
        "                random_inp = random_inp.to(device)\n",
        "                \n",
        "                # Forward Pass\n",
        "                preds = model(images, random_inp)\n",
        "                loss = criterion(preds, labels, sum_labels)\n",
        "                \n",
        "                optimizer.zero_grad()\n",
        "                loss.backward()\n",
        "                optimizer.step()\n",
        "\n",
        "                train_loss += loss.item()\n",
        "                train_correct += class_predicted(preds, labels, sum_labels)\n",
        "\n",
        "            print(f'Epoch:{epoch}\\t {split.upper()}\\t Correct Prediction:{train_correct}/{int(0.8*len(dataset))} \\t Loss:{train_loss}')\n",
        "            train_losses.append(train_loss)\n",
        "\n",
        "        if split == \"val\":\n",
        "            model.eval()\n",
        "            val_loss = 0\n",
        "            val_correct = 0\n",
        "            for images, labels in val_loader:\n",
        "                # MNIST Input & Label\n",
        "                images = images.to(device)\n",
        "                labels = labels.to(device)\n",
        "                #   one_hot_labels = F.one_hot(labels, num_classes=10)\n",
        "\n",
        "                # Create Random Number Input & Label \n",
        "                random_num = torch.randint(low=0, high=9, size=(batch_size,))\n",
        "                random_num = random_num.to(device)\n",
        "                random_inp = F.one_hot(random_num, num_classes=10)\n",
        "                random_inp = random_inp.type(torch.float32)\n",
        "                sum_labels = labels + random_num  \n",
        "                #   one_hot_random = F.one_hot(random_labels, num_classes=18)\n",
        "                \n",
        "                random_inp = random_inp.to(device)\n",
        "\n",
        "                with torch.no_grad():\n",
        "                    preds = model(images, random_inp)                    \n",
        "                    loss = criterion(preds, labels, sum_labels)\n",
        "\n",
        "                    val_loss += loss.item()\n",
        "                    val_correct += class_predicted(preds, labels, sum_labels)\n",
        "\n",
        "            print(f'Epoch:{epoch}\\t {split.upper()}\\t Correct Prediction:{val_correct}/{int(0.2*len(dataset))} \\t Loss:{val_loss}\\n')\n",
        "            print(\"==\"*10)\n",
        "            val_losses.append(val_loss)\n",
        "\n",
        "  return model, train_losses, val_losses"
      ],
      "execution_count": 7,
      "outputs": []
    },
    {
      "cell_type": "markdown",
      "metadata": {
        "id": "u-ocJ6eYnAnj"
      },
      "source": [
        "## Model Initialisation & Training"
      ]
    },
    {
      "cell_type": "code",
      "metadata": {
        "colab": {
          "base_uri": "https://localhost:8080/"
        },
        "id": "1C9NGP9hm0Lc",
        "outputId": "9f81ad31-2893-4b14-8329-1701e305090c"
      },
      "source": [
        "# Model Initialisation\n",
        "device = torch.device('cuda:0' if torch.cuda.is_available() else 'cpu')\n",
        "print(device)\n",
        "model= Network()\n",
        "model = model.train()\n",
        "model = model.to(device)\n",
        "\n",
        "print('Is model on GPU? ',next(model.parameters()).is_cuda)   ## check if model is moved to GPU\n",
        "\n",
        "# Hyper-parameter Initialisation\n",
        "batch_size=128\n",
        "lr=0.003\n",
        "num_epoch=20\n",
        "optimizer = optim.Adam(model.parameters(),lr=lr)\n",
        "\n",
        "# Training\n",
        "finalWeights, train_losses, val_losses = train_and_eval(model, train_loader, val_loader, optimizer, custom_loss, num_epoch, device)\n",
        "\n",
        "print(f\"Training Accuracy: {round((47817/48000)*100, 2)}%\")\n",
        "print(f\"Validation Accuracy: {round((11773/12000)*100, 2)}%\")\n"
      ],
      "execution_count": 8,
      "outputs": [
        {
          "output_type": "stream",
          "text": [
            "cuda:0\n",
            "Is model on GPU?  True\n",
            "Epoch:0\t TRAIN\t Correct Prediction:28453/48000 \t Loss:560.9250004440546\n",
            "Epoch:0\t VAL\t Correct Prediction:11419/12000 \t Loss:26.386433012783527\n",
            "\n",
            "====================\n",
            "Epoch:1\t TRAIN\t Correct Prediction:46827/48000 \t Loss:58.940400819294155\n",
            "Epoch:1\t VAL\t Correct Prediction:11620/12000 \t Loss:14.643721550703049\n",
            "\n",
            "====================\n",
            "Epoch:2\t TRAIN\t Correct Prediction:47267/48000 \t Loss:36.7010859567672\n",
            "Epoch:2\t VAL\t Correct Prediction:11696/12000 \t Loss:10.867373826913536\n",
            "\n",
            "====================\n",
            "Epoch:3\t TRAIN\t Correct Prediction:47398/48000 \t Loss:28.50915721594356\n",
            "Epoch:3\t VAL\t Correct Prediction:11737/12000 \t Loss:8.946417219005525\n",
            "\n",
            "====================\n",
            "Epoch:4\t TRAIN\t Correct Prediction:47498/48000 \t Loss:24.015130201121792\n",
            "Epoch:4\t VAL\t Correct Prediction:11692/12000 \t Loss:10.284274476580322\n",
            "\n",
            "====================\n",
            "Epoch:5\t TRAIN\t Correct Prediction:47606/48000 \t Loss:17.562754777260125\n",
            "Epoch:5\t VAL\t Correct Prediction:11715/12000 \t Loss:10.418252538656816\n",
            "\n",
            "====================\n",
            "Epoch:6\t TRAIN\t Correct Prediction:47626/48000 \t Loss:17.75516323465854\n",
            "Epoch:6\t VAL\t Correct Prediction:11724/12000 \t Loss:10.770540623692796\n",
            "\n",
            "====================\n",
            "Epoch:7\t TRAIN\t Correct Prediction:47651/48000 \t Loss:16.284574324148707\n",
            "Epoch:7\t VAL\t Correct Prediction:11742/12000 \t Loss:9.442462672712281\n",
            "\n",
            "====================\n",
            "Epoch:8\t TRAIN\t Correct Prediction:47691/48000 \t Loss:14.266420471831225\n",
            "Epoch:8\t VAL\t Correct Prediction:11720/12000 \t Loss:11.004479371476918\n",
            "\n",
            "====================\n",
            "Epoch:9\t TRAIN\t Correct Prediction:47731/48000 \t Loss:12.106745729339309\n",
            "Epoch:9\t VAL\t Correct Prediction:11740/12000 \t Loss:10.042431582696736\n",
            "\n",
            "====================\n",
            "Epoch:10\t TRAIN\t Correct Prediction:47739/48000 \t Loss:12.322850580676459\n",
            "Epoch:10\t VAL\t Correct Prediction:11741/12000 \t Loss:9.037930676946416\n",
            "\n",
            "====================\n",
            "Epoch:11\t TRAIN\t Correct Prediction:47765/48000 \t Loss:10.258627761271782\n",
            "Epoch:11\t VAL\t Correct Prediction:11749/12000 \t Loss:9.26579080009833\n",
            "\n",
            "====================\n",
            "Epoch:12\t TRAIN\t Correct Prediction:47734/48000 \t Loss:11.637853584688855\n",
            "Epoch:12\t VAL\t Correct Prediction:11720/12000 \t Loss:12.862646195106208\n",
            "\n",
            "====================\n",
            "Epoch:13\t TRAIN\t Correct Prediction:47773/48000 \t Loss:10.942575673572719\n",
            "Epoch:13\t VAL\t Correct Prediction:11727/12000 \t Loss:11.884913513436913\n",
            "\n",
            "====================\n",
            "Epoch:14\t TRAIN\t Correct Prediction:47837/48000 \t Loss:8.703957872785395\n",
            "Epoch:14\t VAL\t Correct Prediction:11731/12000 \t Loss:11.437443167669699\n",
            "\n",
            "====================\n",
            "Epoch:15\t TRAIN\t Correct Prediction:47739/48000 \t Loss:12.322777684952598\n",
            "Epoch:15\t VAL\t Correct Prediction:11731/12000 \t Loss:12.602523122273851\n",
            "\n",
            "====================\n",
            "Epoch:16\t TRAIN\t Correct Prediction:47834/48000 \t Loss:7.469461542321369\n",
            "Epoch:16\t VAL\t Correct Prediction:11735/12000 \t Loss:11.859955318213906\n",
            "\n",
            "====================\n",
            "Epoch:17\t TRAIN\t Correct Prediction:47826/48000 \t Loss:7.961092511759489\n",
            "Epoch:17\t VAL\t Correct Prediction:11715/12000 \t Loss:11.96095588686876\n",
            "\n",
            "====================\n",
            "Epoch:18\t TRAIN\t Correct Prediction:47797/48000 \t Loss:10.094250928930705\n",
            "Epoch:18\t VAL\t Correct Prediction:11691/12000 \t Loss:15.528352963272482\n",
            "\n",
            "====================\n",
            "Epoch:19\t TRAIN\t Correct Prediction:47788/48000 \t Loss:9.025336548947962\n",
            "Epoch:19\t VAL\t Correct Prediction:11661/12000 \t Loss:14.712576003861614\n",
            "\n",
            "====================\n",
            "Training Accuracy: 99.62%\n",
            "Validation Accuracy: 98.11%\n"
          ],
          "name": "stdout"
        }
      ]
    },
    {
      "cell_type": "code",
      "metadata": {
        "id": "itEFHxM3xSxb"
      },
      "source": [
        ""
      ],
      "execution_count": 8,
      "outputs": []
    },
    {
      "cell_type": "markdown",
      "metadata": {
        "id": "HcwpGXOjnawk"
      },
      "source": [
        "## Model Evaluation"
      ]
    },
    {
      "cell_type": "code",
      "metadata": {
        "colab": {
          "base_uri": "https://localhost:8080/",
          "height": 420
        },
        "id": "qXulYOfxx2y4",
        "outputId": "0553fe33-3e38-4dff-9b5d-7afd294a993e"
      },
      "source": [
        "# Track & Plot Losses\n",
        "\n",
        "import matplotlib.pyplot as plt\n",
        "plt.figure(figsize=(15,8))\n",
        "plt.plot(train_losses, color=\"red\", label=\"Train Loss\")\n",
        "plt.plot(val_losses, color=\"green\", label=\"Test Loss\")\n",
        "plt.legend()\n",
        "plt.show()"
      ],
      "execution_count": 9,
      "outputs": [
        {
          "output_type": "display_data",
          "data": {
            "image/png": "[encoded data removed]",
            "text/plain": [
              "<Figure size 1080x576 with 1 Axes>"
            ]
          },
          "metadata": {
            "tags": [],
            "needs_background": "light"
          }
        }
      ]
    },
    {
      "cell_type": "code",
      "metadata": {
        "colab": {
          "base_uri": "https://localhost:8080/"
        },
        "id": "xStxRMpA4qmn",
        "outputId": "90f6c6e2-99ad-4305-99ba-b48e59d3da9f"
      },
      "source": [
        "# Track on Test Set\n",
        "\n",
        "model.eval()\n",
        "test_loss = 0\n",
        "test_correct = 0\n",
        "for images, labels in test_loader:\n",
        "    images = images.to(device)\n",
        "    labels = labels.to(device)\n",
        "    #   one_hot_labels = F.one_hot(labels, num_classes=10)\n",
        "\n",
        "    random_num = torch.randint(low=0, high=9, size=(batch_size,))\n",
        "    random_num = random_num.to(device)\n",
        "    random_inp = F.one_hot(random_num, num_classes=10)\n",
        "    random_inp = random_inp.type(torch.float32)\n",
        "    sum_labels = labels + random_num  \n",
        "    #   one_hot_random = F.one_hot(random_labels, num_classes=18)\n",
        "    \n",
        "    random_inp = random_inp.to(device)\n",
        "\n",
        "    with torch.no_grad():\n",
        "        preds = model(images, random_inp)                    \n",
        "        test_correct += class_predicted(preds, labels, sum_labels)\n",
        "\n",
        "print(f'{\"TEST\"}\\t Correct Predictions:{test_correct}/{int(len(test_set))}\\n')\n",
        "print(f\"Accuracy: {test_correct/int(len(test_set))*100}%\")\n",
        "print(\"==\"*10)\n"
      ],
      "execution_count": 10,
      "outputs": [
        {
          "output_type": "stream",
          "text": [
            "TEST\t Correct Predictions:9790/10000\n",
            "\n",
            "Accuracy: 97.89999999999999%\n",
            "====================\n"
          ],
          "name": "stdout"
        }
      ]
    },
    {
      "cell_type": "code",
      "metadata": {
        "id": "hjm9yhOOcDRq"
      },
      "source": [
        "import torch.onnx"
      ],
      "execution_count": 11,
      "outputs": []
    },
    {
      "cell_type": "code",
      "metadata": {
        "colab": {
          "base_uri": "https://localhost:8080/"
        },
        "id": "gmRyfiEft6NJ",
        "outputId": "31cc59ab-735b-4019-f913-44ea892bd06b"
      },
      "source": [
        "# Single Item Inference/Prediction\n",
        "\n",
        "def test_one_item():\n",
        "    batch = next(iter(test_loader))\n",
        "    images,label = batch\n",
        "    images = images.to(device)[0].unsqueeze(dim=0)\n",
        "    label = label.to(device)[0].unsqueeze(dim=0)\n",
        "\n",
        "    random_num = torch.randint(low=0, high=9, size=(1,))\n",
        "    random_num = random_num.to(device)\n",
        "    random_inp = F.one_hot(random_num, num_classes=10)\n",
        "    random_inp = random_inp.type(torch.float32)\n",
        "    sum_labels = label + random_num \n",
        "    print(f\"MNIST number: {label.item()}\")\n",
        "    print(f\"Random number: {random_num.item()}\")\n",
        "    print(f\"Sum: {sum_labels.item()}\")\n",
        "\n",
        "    print(\"=\"*10)\n",
        "    global model\n",
        "    with torch.no_grad():\n",
        "        model = model.eval()\n",
        "        preds = model(images, random_inp)\n",
        "        num, sum = preds[:,:10], preds[:, 10:]\n",
        "    print(f\"Predicted Number {torch.argmax(num)}\")\n",
        "    print(f\"Predicted Sum {torch.argmax(sum)}\")\n",
        "    torch.onnx.export(model,               # model being run\n",
        "                  (images, random_inp),                         # model input (or a tuple for multiple inputs)\n",
        "                  \"model.onnx\",   # where to save the model (can be a file or file-like object)\n",
        "                  export_params=True,        # store the trained parameter weights inside the model file\n",
        "                  opset_version=10,          # the ONNX version to export the model to\n",
        "                  do_constant_folding=True,  # whether to execute constant folding for optimization\n",
        "                  input_names = ['input'],   # the model's input names\n",
        "                  output_names = ['output'], # the model's output names\n",
        "                  dynamic_axes={'input' : {0 : 'batch_size'},    # variable length axes\n",
        "                                'output' : {0 : 'batch_size'}})\n",
        "    \n",
        "    # print(f'Test Prdiction:{class_predicted(preds,label)}')\n",
        "\n",
        "# Single Prediction/Inference\n",
        "test_one_item()"
      ],
      "execution_count": 12,
      "outputs": [
        {
          "output_type": "stream",
          "text": [
            "MNIST number: 7\n",
            "Random number: 5\n",
            "Sum: 12\n",
            "==========\n",
            "Predicted Number 7\n",
            "Predicted Sum 12\n"
          ],
          "name": "stdout"
        }
      ]
    },
    {
      "cell_type": "code",
      "metadata": {
        "id": "uYYvm242d7Fl"
      },
      "source": [
        ""
      ],
      "execution_count": null,
      "outputs": []
    }
  ]
}